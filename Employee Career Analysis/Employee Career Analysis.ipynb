{
 "cells": [
  {
   "cell_type": "markdown",
   "id": "bb549601",
   "metadata": {},
   "source": [
    "# Employee Career  Suvey Analysis"
   ]
  },
  {
   "cell_type": "code",
   "execution_count": 1,
   "id": "5e91b478",
   "metadata": {},
   "outputs": [],
   "source": [
    "import pandas as pd\n",
    "import numpy as np\n",
    "import plotly.express as px\n",
    "import plotly.graph_objects as go"
   ]
  },
  {
   "cell_type": "code",
   "execution_count": 2,
   "id": "f32ea75f",
   "metadata": {},
   "outputs": [
    {
     "data": {
      "text/html": [
       "<div>\n",
       "<style scoped>\n",
       "    .dataframe tbody tr th:only-of-type {\n",
       "        vertical-align: middle;\n",
       "    }\n",
       "\n",
       "    .dataframe tbody tr th {\n",
       "        vertical-align: top;\n",
       "    }\n",
       "\n",
       "    .dataframe thead th {\n",
       "        text-align: right;\n",
       "    }\n",
       "</style>\n",
       "<table border=\"1\" class=\"dataframe\">\n",
       "  <thead>\n",
       "    <tr style=\"text-align: right;\">\n",
       "      <th></th>\n",
       "      <th>Your Current Country.</th>\n",
       "      <th>Your Current Zip Code / Pin Code</th>\n",
       "      <th>Your Gender</th>\n",
       "      <th>Which of the below factors influence the most about your career aspirations ?</th>\n",
       "      <th>Would you definitely pursue a Higher Education / Post Graduation outside of India ? If only you have to self sponsor it.</th>\n",
       "      <th>How likely is that you will work for one employer for 3 years or more ?</th>\n",
       "      <th>Would you work for a company whose mission is not clearly defined and publicly posted.</th>\n",
       "      <th>How likely would you work for a company whose mission is misaligned with their public actions or even their product ?</th>\n",
       "      <th>How likely would you work for a company whose mission is not bringing social impact ?</th>\n",
       "      <th>What is the most preferred working environment for you.</th>\n",
       "      <th>Which of the below Employers would you work with.</th>\n",
       "      <th>Which type of learning environment that you are most likely to work in ?</th>\n",
       "      <th>Which of the below careers looks close to your Aspirational job ?</th>\n",
       "      <th>What type of Manager would you work without looking into your watch ?</th>\n",
       "      <th>Which of the following setup you would like to work ?</th>\n",
       "    </tr>\n",
       "  </thead>\n",
       "  <tbody>\n",
       "    <tr>\n",
       "      <th>0</th>\n",
       "      <td>India</td>\n",
       "      <td>273005</td>\n",
       "      <td>Male</td>\n",
       "      <td>People who have changed the world for better</td>\n",
       "      <td>Yes, I will earn and do that</td>\n",
       "      <td>This will be hard to do, but if it is the righ...</td>\n",
       "      <td>No</td>\n",
       "      <td>Will NOT work for them</td>\n",
       "      <td>4</td>\n",
       "      <td>Fully Remote with No option to visit offices</td>\n",
       "      <td>Employer who rewards learning and enables that...</td>\n",
       "      <td>Instructor or Expert Learning Programs, Trial ...</td>\n",
       "      <td>Business Operations in any organization, Build...</td>\n",
       "      <td>Manager who explains what is expected, sets a ...</td>\n",
       "      <td>Work alone, Work with 2 to 3 people in my team...</td>\n",
       "    </tr>\n",
       "    <tr>\n",
       "      <th>1</th>\n",
       "      <td>India</td>\n",
       "      <td>851129</td>\n",
       "      <td>Male</td>\n",
       "      <td>People who have changed the world for better</td>\n",
       "      <td>No, But if someone could bare the cost I will</td>\n",
       "      <td>This will be hard to do, but if it is the righ...</td>\n",
       "      <td>No</td>\n",
       "      <td>Will NOT work for them</td>\n",
       "      <td>1</td>\n",
       "      <td>Fully Remote with Options to travel as and whe...</td>\n",
       "      <td>Employer who pushes your limits by enabling an...</td>\n",
       "      <td>Self Paced Learning Portals, Instructor or Exp...</td>\n",
       "      <td>Business Operations in any organization, Build...</td>\n",
       "      <td>Manager who explains what is expected, sets a ...</td>\n",
       "      <td>Work with 5 to 6 people in my team</td>\n",
       "    </tr>\n",
       "    <tr>\n",
       "      <th>2</th>\n",
       "      <td>India</td>\n",
       "      <td>123106</td>\n",
       "      <td>Female</td>\n",
       "      <td>Social Media like LinkedIn</td>\n",
       "      <td>Yes, I will earn and do that</td>\n",
       "      <td>Will work for 3 years or more</td>\n",
       "      <td>Yes</td>\n",
       "      <td>Will work for them</td>\n",
       "      <td>7</td>\n",
       "      <td>Hybrid Working Environment with less than 15 d...</td>\n",
       "      <td>Employer who pushes your limits by enabling an...</td>\n",
       "      <td>Self Paced Learning Portals, Trial and error b...</td>\n",
       "      <td>Manage and drive End-to-End Projects or Produc...</td>\n",
       "      <td>Manager who explains what is expected, sets a ...</td>\n",
       "      <td>Work with 2 to 3 people in my team, Work with ...</td>\n",
       "    </tr>\n",
       "    <tr>\n",
       "      <th>3</th>\n",
       "      <td>India</td>\n",
       "      <td>834003</td>\n",
       "      <td>Male</td>\n",
       "      <td>People from my circle, but not family members</td>\n",
       "      <td>No, But if someone could bare the cost I will</td>\n",
       "      <td>This will be hard to do, but if it is the righ...</td>\n",
       "      <td>No</td>\n",
       "      <td>Will NOT work for them</td>\n",
       "      <td>6</td>\n",
       "      <td>Hybrid Working Environment with less than 15 d...</td>\n",
       "      <td>Employer who pushes your limits by enabling an...</td>\n",
       "      <td>Instructor or Expert Learning Programs, Trial ...</td>\n",
       "      <td>Business Operations in any organization, Manag...</td>\n",
       "      <td>Manager who explains what is expected, sets a ...</td>\n",
       "      <td>Work with 2 to 3 people in my team</td>\n",
       "    </tr>\n",
       "    <tr>\n",
       "      <th>4</th>\n",
       "      <td>India</td>\n",
       "      <td>301019</td>\n",
       "      <td>Female</td>\n",
       "      <td>Influencers who had successful careers</td>\n",
       "      <td>No, But if someone could bare the cost I will</td>\n",
       "      <td>Will work for 3 years or more</td>\n",
       "      <td>No</td>\n",
       "      <td>Will NOT work for them</td>\n",
       "      <td>5</td>\n",
       "      <td>Fully Remote with Options to travel as and whe...</td>\n",
       "      <td>Employer who appreciates learning and enables ...</td>\n",
       "      <td>Self Paced Learning Portals, Learning by obser...</td>\n",
       "      <td>Teaching in any of the institutes/online or Of...</td>\n",
       "      <td>Manager who explains what is expected, sets a ...</td>\n",
       "      <td>Work with 2 to 3 people in my team, Work with ...</td>\n",
       "    </tr>\n",
       "    <tr>\n",
       "      <th>...</th>\n",
       "      <td>...</td>\n",
       "      <td>...</td>\n",
       "      <td>...</td>\n",
       "      <td>...</td>\n",
       "      <td>...</td>\n",
       "      <td>...</td>\n",
       "      <td>...</td>\n",
       "      <td>...</td>\n",
       "      <td>...</td>\n",
       "      <td>...</td>\n",
       "      <td>...</td>\n",
       "      <td>...</td>\n",
       "      <td>...</td>\n",
       "      <td>...</td>\n",
       "      <td>...</td>\n",
       "    </tr>\n",
       "    <tr>\n",
       "      <th>230</th>\n",
       "      <td>India</td>\n",
       "      <td>605008</td>\n",
       "      <td>Male</td>\n",
       "      <td>People from my circle, but not family members</td>\n",
       "      <td>Yes, I will earn and do that</td>\n",
       "      <td>Will work for 3 years or more</td>\n",
       "      <td>No</td>\n",
       "      <td>Will NOT work for them</td>\n",
       "      <td>7</td>\n",
       "      <td>Fully Remote with Options to travel as and whe...</td>\n",
       "      <td>Employer who pushes your limits by enabling an...</td>\n",
       "      <td>Self Paced Learning Portals, Learning by obser...</td>\n",
       "      <td>Design and Creative strategy in any company, B...</td>\n",
       "      <td>Manager who sets goal and helps me achieve it</td>\n",
       "      <td>Work with more than 10 people in my team</td>\n",
       "    </tr>\n",
       "    <tr>\n",
       "      <th>231</th>\n",
       "      <td>India</td>\n",
       "      <td>722207</td>\n",
       "      <td>Male</td>\n",
       "      <td>People from my circle, but not family members</td>\n",
       "      <td>No I would not be pursuing Higher Education ou...</td>\n",
       "      <td>This will be hard to do, but if it is the righ...</td>\n",
       "      <td>Yes</td>\n",
       "      <td>Will work for them</td>\n",
       "      <td>5</td>\n",
       "      <td>Hybrid Working Environment with less than 3 da...</td>\n",
       "      <td>Employer who rewards learning and enables that...</td>\n",
       "      <td>Learning by observing others, Trial and error ...</td>\n",
       "      <td>Business Operations in any organization, Look ...</td>\n",
       "      <td>Manager who explains what is expected, sets a ...</td>\n",
       "      <td>Work with 2 to 3 people in my team</td>\n",
       "    </tr>\n",
       "    <tr>\n",
       "      <th>232</th>\n",
       "      <td>India</td>\n",
       "      <td>604102</td>\n",
       "      <td>Female</td>\n",
       "      <td>People who have changed the world for better</td>\n",
       "      <td>Yes, I will earn and do that</td>\n",
       "      <td>Will work for 3 years or more</td>\n",
       "      <td>Yes</td>\n",
       "      <td>Will work for them</td>\n",
       "      <td>4</td>\n",
       "      <td>Hybrid Working Environment with less than 10 d...</td>\n",
       "      <td>Employer who appreciates learning and enables ...</td>\n",
       "      <td>Self Paced Learning Portals, Learning by obser...</td>\n",
       "      <td>Design and Creative strategy in any company, B...</td>\n",
       "      <td>Manager who sets goal and helps me achieve it</td>\n",
       "      <td>Work with more than 10 people in my team</td>\n",
       "    </tr>\n",
       "    <tr>\n",
       "      <th>233</th>\n",
       "      <td>India</td>\n",
       "      <td>122002</td>\n",
       "      <td>Male</td>\n",
       "      <td>People who have changed the world for better</td>\n",
       "      <td>Yes, I will earn and do that</td>\n",
       "      <td>No way, 3 years with one employer is crazy</td>\n",
       "      <td>No</td>\n",
       "      <td>Will NOT work for them</td>\n",
       "      <td>7</td>\n",
       "      <td>Hybrid Working Environment with less than 15 d...</td>\n",
       "      <td>Employer who rewards learning and enables that...</td>\n",
       "      <td>Self Paced Learning Portals, Instructor or Exp...</td>\n",
       "      <td>Teaching in any of the institutes/online or Of...</td>\n",
       "      <td>Manager who explains what is expected, sets a ...</td>\n",
       "      <td>Work with 5 to 6 people in my team</td>\n",
       "    </tr>\n",
       "    <tr>\n",
       "      <th>234</th>\n",
       "      <td>India</td>\n",
       "      <td>605102</td>\n",
       "      <td>Female</td>\n",
       "      <td>My Parents</td>\n",
       "      <td>Yes, I will earn and do that</td>\n",
       "      <td>This will be hard to do, but if it is the righ...</td>\n",
       "      <td>Yes</td>\n",
       "      <td>Will work for them</td>\n",
       "      <td>5</td>\n",
       "      <td>Every Day Office Environment</td>\n",
       "      <td>Employer who appreciates learning and enables ...</td>\n",
       "      <td>Self Paced Learning Portals, Instructor or Exp...</td>\n",
       "      <td>Business Operations in any organization, Desig...</td>\n",
       "      <td>Manager who sets targets and expects me to ach...</td>\n",
       "      <td>Work with 7 to 10 or more people in my team</td>\n",
       "    </tr>\n",
       "  </tbody>\n",
       "</table>\n",
       "<p>235 rows × 15 columns</p>\n",
       "</div>"
      ],
      "text/plain": [
       "    Your Current Country.  Your Current Zip Code / Pin Code Your Gender  \\\n",
       "0                   India                            273005        Male   \n",
       "1                   India                            851129        Male   \n",
       "2                   India                            123106      Female   \n",
       "3                   India                            834003        Male   \n",
       "4                   India                            301019      Female   \n",
       "..                    ...                               ...         ...   \n",
       "230                 India                            605008        Male   \n",
       "231                 India                            722207        Male   \n",
       "232                 India                            604102      Female   \n",
       "233                 India                            122002        Male   \n",
       "234                 India                            605102      Female   \n",
       "\n",
       "    Which of the below factors influence the most about your career aspirations ?  \\\n",
       "0         People who have changed the world for better                              \n",
       "1         People who have changed the world for better                              \n",
       "2                           Social Media like LinkedIn                              \n",
       "3        People from my circle, but not family members                              \n",
       "4               Influencers who had successful careers                              \n",
       "..                                                 ...                              \n",
       "230      People from my circle, but not family members                              \n",
       "231      People from my circle, but not family members                              \n",
       "232       People who have changed the world for better                              \n",
       "233       People who have changed the world for better                              \n",
       "234                                         My Parents                              \n",
       "\n",
       "    Would you definitely pursue a Higher Education / Post Graduation outside of India ? If only you have to self sponsor it.  \\\n",
       "0                         Yes, I will earn and do that                                                                         \n",
       "1        No, But if someone could bare the cost I will                                                                         \n",
       "2                         Yes, I will earn and do that                                                                         \n",
       "3        No, But if someone could bare the cost I will                                                                         \n",
       "4        No, But if someone could bare the cost I will                                                                         \n",
       "..                                                 ...                                                                         \n",
       "230                       Yes, I will earn and do that                                                                         \n",
       "231  No I would not be pursuing Higher Education ou...                                                                         \n",
       "232                       Yes, I will earn and do that                                                                         \n",
       "233                       Yes, I will earn and do that                                                                         \n",
       "234                       Yes, I will earn and do that                                                                         \n",
       "\n",
       "    How likely is that you will work for one employer for 3 years or more ?  \\\n",
       "0    This will be hard to do, but if it is the righ...                        \n",
       "1    This will be hard to do, but if it is the righ...                        \n",
       "2                        Will work for 3 years or more                        \n",
       "3    This will be hard to do, but if it is the righ...                        \n",
       "4                        Will work for 3 years or more                        \n",
       "..                                                 ...                        \n",
       "230                      Will work for 3 years or more                        \n",
       "231  This will be hard to do, but if it is the righ...                        \n",
       "232                      Will work for 3 years or more                        \n",
       "233         No way, 3 years with one employer is crazy                        \n",
       "234  This will be hard to do, but if it is the righ...                        \n",
       "\n",
       "    Would you work for a company whose mission is not clearly defined and publicly posted.  \\\n",
       "0                                                   No                                       \n",
       "1                                                   No                                       \n",
       "2                                                  Yes                                       \n",
       "3                                                   No                                       \n",
       "4                                                   No                                       \n",
       "..                                                 ...                                       \n",
       "230                                                 No                                       \n",
       "231                                                Yes                                       \n",
       "232                                                Yes                                       \n",
       "233                                                 No                                       \n",
       "234                                                Yes                                       \n",
       "\n",
       "    How likely would you work for a company whose mission is misaligned with their public actions or even their product ?  \\\n",
       "0                               Will NOT work for them                                                                      \n",
       "1                               Will NOT work for them                                                                      \n",
       "2                                   Will work for them                                                                      \n",
       "3                               Will NOT work for them                                                                      \n",
       "4                               Will NOT work for them                                                                      \n",
       "..                                                 ...                                                                      \n",
       "230                             Will NOT work for them                                                                      \n",
       "231                                 Will work for them                                                                      \n",
       "232                                 Will work for them                                                                      \n",
       "233                             Will NOT work for them                                                                      \n",
       "234                                 Will work for them                                                                      \n",
       "\n",
       "     How likely would you work for a company whose mission is not bringing social impact ?  \\\n",
       "0                                                    4                                       \n",
       "1                                                    1                                       \n",
       "2                                                    7                                       \n",
       "3                                                    6                                       \n",
       "4                                                    5                                       \n",
       "..                                                 ...                                       \n",
       "230                                                  7                                       \n",
       "231                                                  5                                       \n",
       "232                                                  4                                       \n",
       "233                                                  7                                       \n",
       "234                                                  5                                       \n",
       "\n",
       "    What is the most preferred working environment for you.  \\\n",
       "0         Fully Remote with No option to visit offices        \n",
       "1    Fully Remote with Options to travel as and whe...        \n",
       "2    Hybrid Working Environment with less than 15 d...        \n",
       "3    Hybrid Working Environment with less than 15 d...        \n",
       "4    Fully Remote with Options to travel as and whe...        \n",
       "..                                                 ...        \n",
       "230  Fully Remote with Options to travel as and whe...        \n",
       "231  Hybrid Working Environment with less than 3 da...        \n",
       "232  Hybrid Working Environment with less than 10 d...        \n",
       "233  Hybrid Working Environment with less than 15 d...        \n",
       "234                       Every Day Office Environment        \n",
       "\n",
       "     Which of the below Employers would you work with.  \\\n",
       "0    Employer who rewards learning and enables that...   \n",
       "1    Employer who pushes your limits by enabling an...   \n",
       "2    Employer who pushes your limits by enabling an...   \n",
       "3    Employer who pushes your limits by enabling an...   \n",
       "4    Employer who appreciates learning and enables ...   \n",
       "..                                                 ...   \n",
       "230  Employer who pushes your limits by enabling an...   \n",
       "231  Employer who rewards learning and enables that...   \n",
       "232  Employer who appreciates learning and enables ...   \n",
       "233  Employer who rewards learning and enables that...   \n",
       "234  Employer who appreciates learning and enables ...   \n",
       "\n",
       "    Which type of learning environment that you are most likely to work in ?  \\\n",
       "0    Instructor or Expert Learning Programs, Trial ...                         \n",
       "1    Self Paced Learning Portals, Instructor or Exp...                         \n",
       "2    Self Paced Learning Portals, Trial and error b...                         \n",
       "3    Instructor or Expert Learning Programs, Trial ...                         \n",
       "4    Self Paced Learning Portals, Learning by obser...                         \n",
       "..                                                 ...                         \n",
       "230  Self Paced Learning Portals, Learning by obser...                         \n",
       "231  Learning by observing others, Trial and error ...                         \n",
       "232  Self Paced Learning Portals, Learning by obser...                         \n",
       "233  Self Paced Learning Portals, Instructor or Exp...                         \n",
       "234  Self Paced Learning Portals, Instructor or Exp...                         \n",
       "\n",
       "    Which of the below careers looks close to your Aspirational job ?  \\\n",
       "0    Business Operations in any organization, Build...                  \n",
       "1    Business Operations in any organization, Build...                  \n",
       "2    Manage and drive End-to-End Projects or Produc...                  \n",
       "3    Business Operations in any organization, Manag...                  \n",
       "4    Teaching in any of the institutes/online or Of...                  \n",
       "..                                                 ...                  \n",
       "230  Design and Creative strategy in any company, B...                  \n",
       "231  Business Operations in any organization, Look ...                  \n",
       "232  Design and Creative strategy in any company, B...                  \n",
       "233  Teaching in any of the institutes/online or Of...                  \n",
       "234  Business Operations in any organization, Desig...                  \n",
       "\n",
       "    What type of Manager would you work without looking into your watch ?  \\\n",
       "0    Manager who explains what is expected, sets a ...                      \n",
       "1    Manager who explains what is expected, sets a ...                      \n",
       "2    Manager who explains what is expected, sets a ...                      \n",
       "3    Manager who explains what is expected, sets a ...                      \n",
       "4    Manager who explains what is expected, sets a ...                      \n",
       "..                                                 ...                      \n",
       "230      Manager who sets goal and helps me achieve it                      \n",
       "231  Manager who explains what is expected, sets a ...                      \n",
       "232      Manager who sets goal and helps me achieve it                      \n",
       "233  Manager who explains what is expected, sets a ...                      \n",
       "234  Manager who sets targets and expects me to ach...                      \n",
       "\n",
       "    Which of the following setup you would like to work ?  \n",
       "0    Work alone, Work with 2 to 3 people in my team...     \n",
       "1                   Work with 5 to 6 people in my team     \n",
       "2    Work with 2 to 3 people in my team, Work with ...     \n",
       "3                   Work with 2 to 3 people in my team     \n",
       "4    Work with 2 to 3 people in my team, Work with ...     \n",
       "..                                                 ...     \n",
       "230           Work with more than 10 people in my team     \n",
       "231                 Work with 2 to 3 people in my team     \n",
       "232           Work with more than 10 people in my team     \n",
       "233                 Work with 5 to 6 people in my team     \n",
       "234        Work with 7 to 10 or more people in my team     \n",
       "\n",
       "[235 rows x 15 columns]"
      ]
     },
     "execution_count": 2,
     "metadata": {},
     "output_type": "execute_result"
    }
   ],
   "source": [
    "data = pd.read_csv(\"Your Career Aspirations of GenZ.csv\")\n",
    "data"
   ]
  },
  {
   "cell_type": "code",
   "execution_count": 3,
   "id": "f6bc4671",
   "metadata": {},
   "outputs": [
    {
     "data": {
      "text/html": [
       "<div>\n",
       "<style scoped>\n",
       "    .dataframe tbody tr th:only-of-type {\n",
       "        vertical-align: middle;\n",
       "    }\n",
       "\n",
       "    .dataframe tbody tr th {\n",
       "        vertical-align: top;\n",
       "    }\n",
       "\n",
       "    .dataframe thead th {\n",
       "        text-align: right;\n",
       "    }\n",
       "</style>\n",
       "<table border=\"1\" class=\"dataframe\">\n",
       "  <thead>\n",
       "    <tr style=\"text-align: right;\">\n",
       "      <th></th>\n",
       "      <th>Your Current Country.</th>\n",
       "      <th>Your Current Zip Code / Pin Code</th>\n",
       "      <th>Your Gender</th>\n",
       "      <th>Which of the below factors influence the most about your career aspirations ?</th>\n",
       "      <th>Would you definitely pursue a Higher Education / Post Graduation outside of India ? If only you have to self sponsor it.</th>\n",
       "      <th>How likely is that you will work for one employer for 3 years or more ?</th>\n",
       "      <th>Would you work for a company whose mission is not clearly defined and publicly posted.</th>\n",
       "      <th>How likely would you work for a company whose mission is misaligned with their public actions or even their product ?</th>\n",
       "      <th>How likely would you work for a company whose mission is not bringing social impact ?</th>\n",
       "      <th>What is the most preferred working environment for you.</th>\n",
       "      <th>Which of the below Employers would you work with.</th>\n",
       "      <th>Which type of learning environment that you are most likely to work in ?</th>\n",
       "      <th>Which of the below careers looks close to your Aspirational job ?</th>\n",
       "      <th>What type of Manager would you work without looking into your watch ?</th>\n",
       "      <th>Which of the following setup you would like to work ?</th>\n",
       "    </tr>\n",
       "  </thead>\n",
       "  <tbody>\n",
       "    <tr>\n",
       "      <th>0</th>\n",
       "      <td>India</td>\n",
       "      <td>273005</td>\n",
       "      <td>Male</td>\n",
       "      <td>People who have changed the world for better</td>\n",
       "      <td>Yes, I will earn and do that</td>\n",
       "      <td>This will be hard to do, but if it is the righ...</td>\n",
       "      <td>No</td>\n",
       "      <td>Will NOT work for them</td>\n",
       "      <td>4</td>\n",
       "      <td>Fully Remote with No option to visit offices</td>\n",
       "      <td>Employer who rewards learning and enables that...</td>\n",
       "      <td>Instructor or Expert Learning Programs, Trial ...</td>\n",
       "      <td>Business Operations in any organization, Build...</td>\n",
       "      <td>Manager who explains what is expected, sets a ...</td>\n",
       "      <td>Work alone, Work with 2 to 3 people in my team...</td>\n",
       "    </tr>\n",
       "    <tr>\n",
       "      <th>1</th>\n",
       "      <td>India</td>\n",
       "      <td>851129</td>\n",
       "      <td>Male</td>\n",
       "      <td>People who have changed the world for better</td>\n",
       "      <td>No, But if someone could bare the cost I will</td>\n",
       "      <td>This will be hard to do, but if it is the righ...</td>\n",
       "      <td>No</td>\n",
       "      <td>Will NOT work for them</td>\n",
       "      <td>1</td>\n",
       "      <td>Fully Remote with Options to travel as and whe...</td>\n",
       "      <td>Employer who pushes your limits by enabling an...</td>\n",
       "      <td>Self Paced Learning Portals, Instructor or Exp...</td>\n",
       "      <td>Business Operations in any organization, Build...</td>\n",
       "      <td>Manager who explains what is expected, sets a ...</td>\n",
       "      <td>Work with 5 to 6 people in my team</td>\n",
       "    </tr>\n",
       "    <tr>\n",
       "      <th>2</th>\n",
       "      <td>India</td>\n",
       "      <td>123106</td>\n",
       "      <td>Female</td>\n",
       "      <td>Social Media like LinkedIn</td>\n",
       "      <td>Yes, I will earn and do that</td>\n",
       "      <td>Will work for 3 years or more</td>\n",
       "      <td>Yes</td>\n",
       "      <td>Will work for them</td>\n",
       "      <td>7</td>\n",
       "      <td>Hybrid Working Environment with less than 15 d...</td>\n",
       "      <td>Employer who pushes your limits by enabling an...</td>\n",
       "      <td>Self Paced Learning Portals, Trial and error b...</td>\n",
       "      <td>Manage and drive End-to-End Projects or Produc...</td>\n",
       "      <td>Manager who explains what is expected, sets a ...</td>\n",
       "      <td>Work with 2 to 3 people in my team, Work with ...</td>\n",
       "    </tr>\n",
       "    <tr>\n",
       "      <th>3</th>\n",
       "      <td>India</td>\n",
       "      <td>834003</td>\n",
       "      <td>Male</td>\n",
       "      <td>People from my circle, but not family members</td>\n",
       "      <td>No, But if someone could bare the cost I will</td>\n",
       "      <td>This will be hard to do, but if it is the righ...</td>\n",
       "      <td>No</td>\n",
       "      <td>Will NOT work for them</td>\n",
       "      <td>6</td>\n",
       "      <td>Hybrid Working Environment with less than 15 d...</td>\n",
       "      <td>Employer who pushes your limits by enabling an...</td>\n",
       "      <td>Instructor or Expert Learning Programs, Trial ...</td>\n",
       "      <td>Business Operations in any organization, Manag...</td>\n",
       "      <td>Manager who explains what is expected, sets a ...</td>\n",
       "      <td>Work with 2 to 3 people in my team</td>\n",
       "    </tr>\n",
       "    <tr>\n",
       "      <th>4</th>\n",
       "      <td>India</td>\n",
       "      <td>301019</td>\n",
       "      <td>Female</td>\n",
       "      <td>Influencers who had successful careers</td>\n",
       "      <td>No, But if someone could bare the cost I will</td>\n",
       "      <td>Will work for 3 years or more</td>\n",
       "      <td>No</td>\n",
       "      <td>Will NOT work for them</td>\n",
       "      <td>5</td>\n",
       "      <td>Fully Remote with Options to travel as and whe...</td>\n",
       "      <td>Employer who appreciates learning and enables ...</td>\n",
       "      <td>Self Paced Learning Portals, Learning by obser...</td>\n",
       "      <td>Teaching in any of the institutes/online or Of...</td>\n",
       "      <td>Manager who explains what is expected, sets a ...</td>\n",
       "      <td>Work with 2 to 3 people in my team, Work with ...</td>\n",
       "    </tr>\n",
       "  </tbody>\n",
       "</table>\n",
       "</div>"
      ],
      "text/plain": [
       "  Your Current Country.  Your Current Zip Code / Pin Code Your Gender  \\\n",
       "0                 India                            273005        Male   \n",
       "1                 India                            851129        Male   \n",
       "2                 India                            123106      Female   \n",
       "3                 India                            834003        Male   \n",
       "4                 India                            301019      Female   \n",
       "\n",
       "  Which of the below factors influence the most about your career aspirations ?  \\\n",
       "0       People who have changed the world for better                              \n",
       "1       People who have changed the world for better                              \n",
       "2                         Social Media like LinkedIn                              \n",
       "3      People from my circle, but not family members                              \n",
       "4             Influencers who had successful careers                              \n",
       "\n",
       "  Would you definitely pursue a Higher Education / Post Graduation outside of India ? If only you have to self sponsor it.  \\\n",
       "0                       Yes, I will earn and do that                                                                         \n",
       "1      No, But if someone could bare the cost I will                                                                         \n",
       "2                       Yes, I will earn and do that                                                                         \n",
       "3      No, But if someone could bare the cost I will                                                                         \n",
       "4      No, But if someone could bare the cost I will                                                                         \n",
       "\n",
       "  How likely is that you will work for one employer for 3 years or more ?  \\\n",
       "0  This will be hard to do, but if it is the righ...                        \n",
       "1  This will be hard to do, but if it is the righ...                        \n",
       "2                      Will work for 3 years or more                        \n",
       "3  This will be hard to do, but if it is the righ...                        \n",
       "4                      Will work for 3 years or more                        \n",
       "\n",
       "  Would you work for a company whose mission is not clearly defined and publicly posted.  \\\n",
       "0                                                 No                                       \n",
       "1                                                 No                                       \n",
       "2                                                Yes                                       \n",
       "3                                                 No                                       \n",
       "4                                                 No                                       \n",
       "\n",
       "  How likely would you work for a company whose mission is misaligned with their public actions or even their product ?  \\\n",
       "0                             Will NOT work for them                                                                      \n",
       "1                             Will NOT work for them                                                                      \n",
       "2                                 Will work for them                                                                      \n",
       "3                             Will NOT work for them                                                                      \n",
       "4                             Will NOT work for them                                                                      \n",
       "\n",
       "   How likely would you work for a company whose mission is not bringing social impact ?  \\\n",
       "0                                                  4                                       \n",
       "1                                                  1                                       \n",
       "2                                                  7                                       \n",
       "3                                                  6                                       \n",
       "4                                                  5                                       \n",
       "\n",
       "  What is the most preferred working environment for you.  \\\n",
       "0       Fully Remote with No option to visit offices        \n",
       "1  Fully Remote with Options to travel as and whe...        \n",
       "2  Hybrid Working Environment with less than 15 d...        \n",
       "3  Hybrid Working Environment with less than 15 d...        \n",
       "4  Fully Remote with Options to travel as and whe...        \n",
       "\n",
       "   Which of the below Employers would you work with.  \\\n",
       "0  Employer who rewards learning and enables that...   \n",
       "1  Employer who pushes your limits by enabling an...   \n",
       "2  Employer who pushes your limits by enabling an...   \n",
       "3  Employer who pushes your limits by enabling an...   \n",
       "4  Employer who appreciates learning and enables ...   \n",
       "\n",
       "  Which type of learning environment that you are most likely to work in ?  \\\n",
       "0  Instructor or Expert Learning Programs, Trial ...                         \n",
       "1  Self Paced Learning Portals, Instructor or Exp...                         \n",
       "2  Self Paced Learning Portals, Trial and error b...                         \n",
       "3  Instructor or Expert Learning Programs, Trial ...                         \n",
       "4  Self Paced Learning Portals, Learning by obser...                         \n",
       "\n",
       "  Which of the below careers looks close to your Aspirational job ?  \\\n",
       "0  Business Operations in any organization, Build...                  \n",
       "1  Business Operations in any organization, Build...                  \n",
       "2  Manage and drive End-to-End Projects or Produc...                  \n",
       "3  Business Operations in any organization, Manag...                  \n",
       "4  Teaching in any of the institutes/online or Of...                  \n",
       "\n",
       "  What type of Manager would you work without looking into your watch ?  \\\n",
       "0  Manager who explains what is expected, sets a ...                      \n",
       "1  Manager who explains what is expected, sets a ...                      \n",
       "2  Manager who explains what is expected, sets a ...                      \n",
       "3  Manager who explains what is expected, sets a ...                      \n",
       "4  Manager who explains what is expected, sets a ...                      \n",
       "\n",
       "  Which of the following setup you would like to work ?  \n",
       "0  Work alone, Work with 2 to 3 people in my team...     \n",
       "1                 Work with 5 to 6 people in my team     \n",
       "2  Work with 2 to 3 people in my team, Work with ...     \n",
       "3                 Work with 2 to 3 people in my team     \n",
       "4  Work with 2 to 3 people in my team, Work with ...     "
      ]
     },
     "execution_count": 3,
     "metadata": {},
     "output_type": "execute_result"
    }
   ],
   "source": [
    "data.head()"
   ]
  },
  {
   "cell_type": "code",
   "execution_count": 4,
   "id": "d3a4142a",
   "metadata": {},
   "outputs": [
    {
     "data": {
      "text/plain": [
       "Index(['Your Current Country.', 'Your Current Zip Code / Pin Code',\n",
       "       'Your Gender',\n",
       "       'Which of the below factors influence the most about your career aspirations ?',\n",
       "       'Would you definitely pursue a Higher Education / Post Graduation outside of India ? If only you have to self sponsor it.',\n",
       "       'How likely is that you will work for one employer for 3 years or more ?',\n",
       "       'Would you work for a company whose mission is not clearly defined and publicly posted.',\n",
       "       'How likely would you work for a company whose mission is misaligned with their public actions or even their product ?',\n",
       "       'How likely would you work for a company whose mission is not bringing social impact ?',\n",
       "       'What is the most preferred working environment for you.',\n",
       "       'Which of the below Employers would you work with.',\n",
       "       'Which type of learning environment that you are most likely to work in ?',\n",
       "       'Which of the below careers looks close to your Aspirational job ?',\n",
       "       'What type of Manager would you work without looking into your watch ?',\n",
       "       'Which of the following setup you would like to work ?'],\n",
       "      dtype='object')"
      ]
     },
     "execution_count": 4,
     "metadata": {},
     "output_type": "execute_result"
    }
   ],
   "source": [
    "data.columns"
   ]
  },
  {
   "cell_type": "markdown",
   "id": "cc9bdcdc",
   "metadata": {},
   "source": [
    "# Objective"
   ]
  },
  {
   "cell_type": "code",
   "execution_count": 5,
   "id": "f9ddb791",
   "metadata": {},
   "outputs": [
    {
     "data": {
      "text/plain": [
       "Your Current Country.\n",
       "India                       231\n",
       "Germany                       2\n",
       "United Arab Emirates          1\n",
       "United States of America      1\n",
       "Name: count, dtype: int64"
      ]
     },
     "execution_count": 5,
     "metadata": {},
     "output_type": "execute_result"
    }
   ],
   "source": [
    "country = data[\"Your Current Country.\"].value_counts()\n",
    "country"
   ]
  },
  {
   "cell_type": "markdown",
   "id": "ac09285f",
   "metadata": {},
   "source": [
    "# 1] Analysis Of Country"
   ]
  },
  {
   "cell_type": "code",
   "execution_count": 6,
   "id": "c8f96b66",
   "metadata": {},
   "outputs": [
    {
     "data": {
      "application/vnd.plotly.v1+json": {
       "config": {
        "plotlyServerURL": "https://plot.ly"
       },
       "data": [
        {
         "hoverinfo": "label+value",
         "labels": [
          "India",
          "Germany",
          "United Arab Emirates",
          "United States of America"
         ],
         "marker": {
          "colors": [
           "red",
           "lightgreen"
          ],
          "line": {
           "color": "black",
           "width": 3
          }
         },
         "textfont": {
          "size": 30
         },
         "textinfo": "percent",
         "type": "pie",
         "values": [
          231,
          2,
          1,
          1
         ]
        }
       ],
       "layout": {
        "template": {
         "data": {
          "bar": [
           {
            "error_x": {
             "color": "#2a3f5f"
            },
            "error_y": {
             "color": "#2a3f5f"
            },
            "marker": {
             "line": {
              "color": "#E5ECF6",
              "width": 0.5
             },
             "pattern": {
              "fillmode": "overlay",
              "size": 10,
              "solidity": 0.2
             }
            },
            "type": "bar"
           }
          ],
          "barpolar": [
           {
            "marker": {
             "line": {
              "color": "#E5ECF6",
              "width": 0.5
             },
             "pattern": {
              "fillmode": "overlay",
              "size": 10,
              "solidity": 0.2
             }
            },
            "type": "barpolar"
           }
          ],
          "carpet": [
           {
            "aaxis": {
             "endlinecolor": "#2a3f5f",
             "gridcolor": "white",
             "linecolor": "white",
             "minorgridcolor": "white",
             "startlinecolor": "#2a3f5f"
            },
            "baxis": {
             "endlinecolor": "#2a3f5f",
             "gridcolor": "white",
             "linecolor": "white",
             "minorgridcolor": "white",
             "startlinecolor": "#2a3f5f"
            },
            "type": "carpet"
           }
          ],
          "choropleth": [
           {
            "colorbar": {
             "outlinewidth": 0,
             "ticks": ""
            },
            "type": "choropleth"
           }
          ],
          "contour": [
           {
            "colorbar": {
             "outlinewidth": 0,
             "ticks": ""
            },
            "colorscale": [
             [
              0,
              "#0d0887"
             ],
             [
              0.1111111111111111,
              "#46039f"
             ],
             [
              0.2222222222222222,
              "#7201a8"
             ],
             [
              0.3333333333333333,
              "#9c179e"
             ],
             [
              0.4444444444444444,
              "#bd3786"
             ],
             [
              0.5555555555555556,
              "#d8576b"
             ],
             [
              0.6666666666666666,
              "#ed7953"
             ],
             [
              0.7777777777777778,
              "#fb9f3a"
             ],
             [
              0.8888888888888888,
              "#fdca26"
             ],
             [
              1,
              "#f0f921"
             ]
            ],
            "type": "contour"
           }
          ],
          "contourcarpet": [
           {
            "colorbar": {
             "outlinewidth": 0,
             "ticks": ""
            },
            "type": "contourcarpet"
           }
          ],
          "heatmap": [
           {
            "colorbar": {
             "outlinewidth": 0,
             "ticks": ""
            },
            "colorscale": [
             [
              0,
              "#0d0887"
             ],
             [
              0.1111111111111111,
              "#46039f"
             ],
             [
              0.2222222222222222,
              "#7201a8"
             ],
             [
              0.3333333333333333,
              "#9c179e"
             ],
             [
              0.4444444444444444,
              "#bd3786"
             ],
             [
              0.5555555555555556,
              "#d8576b"
             ],
             [
              0.6666666666666666,
              "#ed7953"
             ],
             [
              0.7777777777777778,
              "#fb9f3a"
             ],
             [
              0.8888888888888888,
              "#fdca26"
             ],
             [
              1,
              "#f0f921"
             ]
            ],
            "type": "heatmap"
           }
          ],
          "heatmapgl": [
           {
            "colorbar": {
             "outlinewidth": 0,
             "ticks": ""
            },
            "colorscale": [
             [
              0,
              "#0d0887"
             ],
             [
              0.1111111111111111,
              "#46039f"
             ],
             [
              0.2222222222222222,
              "#7201a8"
             ],
             [
              0.3333333333333333,
              "#9c179e"
             ],
             [
              0.4444444444444444,
              "#bd3786"
             ],
             [
              0.5555555555555556,
              "#d8576b"
             ],
             [
              0.6666666666666666,
              "#ed7953"
             ],
             [
              0.7777777777777778,
              "#fb9f3a"
             ],
             [
              0.8888888888888888,
              "#fdca26"
             ],
             [
              1,
              "#f0f921"
             ]
            ],
            "type": "heatmapgl"
           }
          ],
          "histogram": [
           {
            "marker": {
             "pattern": {
              "fillmode": "overlay",
              "size": 10,
              "solidity": 0.2
             }
            },
            "type": "histogram"
           }
          ],
          "histogram2d": [
           {
            "colorbar": {
             "outlinewidth": 0,
             "ticks": ""
            },
            "colorscale": [
             [
              0,
              "#0d0887"
             ],
             [
              0.1111111111111111,
              "#46039f"
             ],
             [
              0.2222222222222222,
              "#7201a8"
             ],
             [
              0.3333333333333333,
              "#9c179e"
             ],
             [
              0.4444444444444444,
              "#bd3786"
             ],
             [
              0.5555555555555556,
              "#d8576b"
             ],
             [
              0.6666666666666666,
              "#ed7953"
             ],
             [
              0.7777777777777778,
              "#fb9f3a"
             ],
             [
              0.8888888888888888,
              "#fdca26"
             ],
             [
              1,
              "#f0f921"
             ]
            ],
            "type": "histogram2d"
           }
          ],
          "histogram2dcontour": [
           {
            "colorbar": {
             "outlinewidth": 0,
             "ticks": ""
            },
            "colorscale": [
             [
              0,
              "#0d0887"
             ],
             [
              0.1111111111111111,
              "#46039f"
             ],
             [
              0.2222222222222222,
              "#7201a8"
             ],
             [
              0.3333333333333333,
              "#9c179e"
             ],
             [
              0.4444444444444444,
              "#bd3786"
             ],
             [
              0.5555555555555556,
              "#d8576b"
             ],
             [
              0.6666666666666666,
              "#ed7953"
             ],
             [
              0.7777777777777778,
              "#fb9f3a"
             ],
             [
              0.8888888888888888,
              "#fdca26"
             ],
             [
              1,
              "#f0f921"
             ]
            ],
            "type": "histogram2dcontour"
           }
          ],
          "mesh3d": [
           {
            "colorbar": {
             "outlinewidth": 0,
             "ticks": ""
            },
            "type": "mesh3d"
           }
          ],
          "parcoords": [
           {
            "line": {
             "colorbar": {
              "outlinewidth": 0,
              "ticks": ""
             }
            },
            "type": "parcoords"
           }
          ],
          "pie": [
           {
            "automargin": true,
            "type": "pie"
           }
          ],
          "scatter": [
           {
            "fillpattern": {
             "fillmode": "overlay",
             "size": 10,
             "solidity": 0.2
            },
            "type": "scatter"
           }
          ],
          "scatter3d": [
           {
            "line": {
             "colorbar": {
              "outlinewidth": 0,
              "ticks": ""
             }
            },
            "marker": {
             "colorbar": {
              "outlinewidth": 0,
              "ticks": ""
             }
            },
            "type": "scatter3d"
           }
          ],
          "scattercarpet": [
           {
            "marker": {
             "colorbar": {
              "outlinewidth": 0,
              "ticks": ""
             }
            },
            "type": "scattercarpet"
           }
          ],
          "scattergeo": [
           {
            "marker": {
             "colorbar": {
              "outlinewidth": 0,
              "ticks": ""
             }
            },
            "type": "scattergeo"
           }
          ],
          "scattergl": [
           {
            "marker": {
             "colorbar": {
              "outlinewidth": 0,
              "ticks": ""
             }
            },
            "type": "scattergl"
           }
          ],
          "scattermapbox": [
           {
            "marker": {
             "colorbar": {
              "outlinewidth": 0,
              "ticks": ""
             }
            },
            "type": "scattermapbox"
           }
          ],
          "scatterpolar": [
           {
            "marker": {
             "colorbar": {
              "outlinewidth": 0,
              "ticks": ""
             }
            },
            "type": "scatterpolar"
           }
          ],
          "scatterpolargl": [
           {
            "marker": {
             "colorbar": {
              "outlinewidth": 0,
              "ticks": ""
             }
            },
            "type": "scatterpolargl"
           }
          ],
          "scatterternary": [
           {
            "marker": {
             "colorbar": {
              "outlinewidth": 0,
              "ticks": ""
             }
            },
            "type": "scatterternary"
           }
          ],
          "surface": [
           {
            "colorbar": {
             "outlinewidth": 0,
             "ticks": ""
            },
            "colorscale": [
             [
              0,
              "#0d0887"
             ],
             [
              0.1111111111111111,
              "#46039f"
             ],
             [
              0.2222222222222222,
              "#7201a8"
             ],
             [
              0.3333333333333333,
              "#9c179e"
             ],
             [
              0.4444444444444444,
              "#bd3786"
             ],
             [
              0.5555555555555556,
              "#d8576b"
             ],
             [
              0.6666666666666666,
              "#ed7953"
             ],
             [
              0.7777777777777778,
              "#fb9f3a"
             ],
             [
              0.8888888888888888,
              "#fdca26"
             ],
             [
              1,
              "#f0f921"
             ]
            ],
            "type": "surface"
           }
          ],
          "table": [
           {
            "cells": {
             "fill": {
              "color": "#EBF0F8"
             },
             "line": {
              "color": "white"
             }
            },
            "header": {
             "fill": {
              "color": "#C8D4E3"
             },
             "line": {
              "color": "white"
             }
            },
            "type": "table"
           }
          ]
         },
         "layout": {
          "annotationdefaults": {
           "arrowcolor": "#2a3f5f",
           "arrowhead": 0,
           "arrowwidth": 1
          },
          "autotypenumbers": "strict",
          "coloraxis": {
           "colorbar": {
            "outlinewidth": 0,
            "ticks": ""
           }
          },
          "colorscale": {
           "diverging": [
            [
             0,
             "#8e0152"
            ],
            [
             0.1,
             "#c51b7d"
            ],
            [
             0.2,
             "#de77ae"
            ],
            [
             0.3,
             "#f1b6da"
            ],
            [
             0.4,
             "#fde0ef"
            ],
            [
             0.5,
             "#f7f7f7"
            ],
            [
             0.6,
             "#e6f5d0"
            ],
            [
             0.7,
             "#b8e186"
            ],
            [
             0.8,
             "#7fbc41"
            ],
            [
             0.9,
             "#4d9221"
            ],
            [
             1,
             "#276419"
            ]
           ],
           "sequential": [
            [
             0,
             "#0d0887"
            ],
            [
             0.1111111111111111,
             "#46039f"
            ],
            [
             0.2222222222222222,
             "#7201a8"
            ],
            [
             0.3333333333333333,
             "#9c179e"
            ],
            [
             0.4444444444444444,
             "#bd3786"
            ],
            [
             0.5555555555555556,
             "#d8576b"
            ],
            [
             0.6666666666666666,
             "#ed7953"
            ],
            [
             0.7777777777777778,
             "#fb9f3a"
            ],
            [
             0.8888888888888888,
             "#fdca26"
            ],
            [
             1,
             "#f0f921"
            ]
           ],
           "sequentialminus": [
            [
             0,
             "#0d0887"
            ],
            [
             0.1111111111111111,
             "#46039f"
            ],
            [
             0.2222222222222222,
             "#7201a8"
            ],
            [
             0.3333333333333333,
             "#9c179e"
            ],
            [
             0.4444444444444444,
             "#bd3786"
            ],
            [
             0.5555555555555556,
             "#d8576b"
            ],
            [
             0.6666666666666666,
             "#ed7953"
            ],
            [
             0.7777777777777778,
             "#fb9f3a"
            ],
            [
             0.8888888888888888,
             "#fdca26"
            ],
            [
             1,
             "#f0f921"
            ]
           ]
          },
          "colorway": [
           "#636efa",
           "#EF553B",
           "#00cc96",
           "#ab63fa",
           "#FFA15A",
           "#19d3f3",
           "#FF6692",
           "#B6E880",
           "#FF97FF",
           "#FECB52"
          ],
          "font": {
           "color": "#2a3f5f"
          },
          "geo": {
           "bgcolor": "white",
           "lakecolor": "white",
           "landcolor": "#E5ECF6",
           "showlakes": true,
           "showland": true,
           "subunitcolor": "white"
          },
          "hoverlabel": {
           "align": "left"
          },
          "hovermode": "closest",
          "mapbox": {
           "style": "light"
          },
          "paper_bgcolor": "white",
          "plot_bgcolor": "#E5ECF6",
          "polar": {
           "angularaxis": {
            "gridcolor": "white",
            "linecolor": "white",
            "ticks": ""
           },
           "bgcolor": "#E5ECF6",
           "radialaxis": {
            "gridcolor": "white",
            "linecolor": "white",
            "ticks": ""
           }
          },
          "scene": {
           "xaxis": {
            "backgroundcolor": "#E5ECF6",
            "gridcolor": "white",
            "gridwidth": 2,
            "linecolor": "white",
            "showbackground": true,
            "ticks": "",
            "zerolinecolor": "white"
           },
           "yaxis": {
            "backgroundcolor": "#E5ECF6",
            "gridcolor": "white",
            "gridwidth": 2,
            "linecolor": "white",
            "showbackground": true,
            "ticks": "",
            "zerolinecolor": "white"
           },
           "zaxis": {
            "backgroundcolor": "#E5ECF6",
            "gridcolor": "white",
            "gridwidth": 2,
            "linecolor": "white",
            "showbackground": true,
            "ticks": "",
            "zerolinecolor": "white"
           }
          },
          "shapedefaults": {
           "line": {
            "color": "#2a3f5f"
           }
          },
          "ternary": {
           "aaxis": {
            "gridcolor": "white",
            "linecolor": "white",
            "ticks": ""
           },
           "baxis": {
            "gridcolor": "white",
            "linecolor": "white",
            "ticks": ""
           },
           "bgcolor": "#E5ECF6",
           "caxis": {
            "gridcolor": "white",
            "linecolor": "white",
            "ticks": ""
           }
          },
          "title": {
           "x": 0.05
          },
          "xaxis": {
           "automargin": true,
           "gridcolor": "white",
           "linecolor": "white",
           "ticks": "",
           "title": {
            "standoff": 15
           },
           "zerolinecolor": "white",
           "zerolinewidth": 2
          },
          "yaxis": {
           "automargin": true,
           "gridcolor": "white",
           "linecolor": "white",
           "ticks": "",
           "title": {
            "standoff": 15
           },
           "zerolinecolor": "white",
           "zerolinewidth": 2
          }
         }
        },
        "title": {
         "text": "Current Country"
        }
       }
      }
     },
     "metadata": {},
     "output_type": "display_data"
    }
   ],
   "source": [
    "country = data[\"Your Current Country.\"].value_counts()\n",
    "label = country.index\n",
    "counts = country.values\n",
    "colors = ['red','lightgreen']\n",
    "fig = go.Figure(data=[go.Pie(labels=label,values=counts)])\n",
    "fig.update_layout(title_text ='Current Country')\n",
    "fig.update_traces(hoverinfo='label+value',\n",
    "                  textinfo='percent',\n",
    "                  textfont_size=30,\n",
    "              marker=dict(colors=colors,line=dict(color='black',width=3)))\n",
    "fig.show()"
   ]
  },
  {
   "cell_type": "markdown",
   "id": "e450c660",
   "metadata": {},
   "source": [
    "# 2] Now let's have a look at the factors influencing the career aspirations of Genz:"
   ]
  },
  {
   "cell_type": "code",
   "execution_count": 7,
   "id": "1650f0b0",
   "metadata": {},
   "outputs": [
    {
     "data": {
      "application/vnd.plotly.v1+json": {
       "config": {
        "plotlyServerURL": "https://plot.ly"
       },
       "data": [
        {
         "hoverinfo": "label+value",
         "labels": [
          "My Parents",
          "People who have changed the world for better",
          "People from my circle, but not family members",
          "Influencers who had successful careers",
          "Social Media like LinkedIn"
         ],
         "marker": {
          "colors": [
           "gold",
           "lightgreen"
          ],
          "line": {
           "color": "black",
           "width": 3
          }
         },
         "textfont": {
          "size": 30
         },
         "textinfo": "percent",
         "type": "pie",
         "values": [
          79,
          57,
          39,
          37,
          23
         ]
        }
       ],
       "layout": {
        "template": {
         "data": {
          "bar": [
           {
            "error_x": {
             "color": "#2a3f5f"
            },
            "error_y": {
             "color": "#2a3f5f"
            },
            "marker": {
             "line": {
              "color": "#E5ECF6",
              "width": 0.5
             },
             "pattern": {
              "fillmode": "overlay",
              "size": 10,
              "solidity": 0.2
             }
            },
            "type": "bar"
           }
          ],
          "barpolar": [
           {
            "marker": {
             "line": {
              "color": "#E5ECF6",
              "width": 0.5
             },
             "pattern": {
              "fillmode": "overlay",
              "size": 10,
              "solidity": 0.2
             }
            },
            "type": "barpolar"
           }
          ],
          "carpet": [
           {
            "aaxis": {
             "endlinecolor": "#2a3f5f",
             "gridcolor": "white",
             "linecolor": "white",
             "minorgridcolor": "white",
             "startlinecolor": "#2a3f5f"
            },
            "baxis": {
             "endlinecolor": "#2a3f5f",
             "gridcolor": "white",
             "linecolor": "white",
             "minorgridcolor": "white",
             "startlinecolor": "#2a3f5f"
            },
            "type": "carpet"
           }
          ],
          "choropleth": [
           {
            "colorbar": {
             "outlinewidth": 0,
             "ticks": ""
            },
            "type": "choropleth"
           }
          ],
          "contour": [
           {
            "colorbar": {
             "outlinewidth": 0,
             "ticks": ""
            },
            "colorscale": [
             [
              0,
              "#0d0887"
             ],
             [
              0.1111111111111111,
              "#46039f"
             ],
             [
              0.2222222222222222,
              "#7201a8"
             ],
             [
              0.3333333333333333,
              "#9c179e"
             ],
             [
              0.4444444444444444,
              "#bd3786"
             ],
             [
              0.5555555555555556,
              "#d8576b"
             ],
             [
              0.6666666666666666,
              "#ed7953"
             ],
             [
              0.7777777777777778,
              "#fb9f3a"
             ],
             [
              0.8888888888888888,
              "#fdca26"
             ],
             [
              1,
              "#f0f921"
             ]
            ],
            "type": "contour"
           }
          ],
          "contourcarpet": [
           {
            "colorbar": {
             "outlinewidth": 0,
             "ticks": ""
            },
            "type": "contourcarpet"
           }
          ],
          "heatmap": [
           {
            "colorbar": {
             "outlinewidth": 0,
             "ticks": ""
            },
            "colorscale": [
             [
              0,
              "#0d0887"
             ],
             [
              0.1111111111111111,
              "#46039f"
             ],
             [
              0.2222222222222222,
              "#7201a8"
             ],
             [
              0.3333333333333333,
              "#9c179e"
             ],
             [
              0.4444444444444444,
              "#bd3786"
             ],
             [
              0.5555555555555556,
              "#d8576b"
             ],
             [
              0.6666666666666666,
              "#ed7953"
             ],
             [
              0.7777777777777778,
              "#fb9f3a"
             ],
             [
              0.8888888888888888,
              "#fdca26"
             ],
             [
              1,
              "#f0f921"
             ]
            ],
            "type": "heatmap"
           }
          ],
          "heatmapgl": [
           {
            "colorbar": {
             "outlinewidth": 0,
             "ticks": ""
            },
            "colorscale": [
             [
              0,
              "#0d0887"
             ],
             [
              0.1111111111111111,
              "#46039f"
             ],
             [
              0.2222222222222222,
              "#7201a8"
             ],
             [
              0.3333333333333333,
              "#9c179e"
             ],
             [
              0.4444444444444444,
              "#bd3786"
             ],
             [
              0.5555555555555556,
              "#d8576b"
             ],
             [
              0.6666666666666666,
              "#ed7953"
             ],
             [
              0.7777777777777778,
              "#fb9f3a"
             ],
             [
              0.8888888888888888,
              "#fdca26"
             ],
             [
              1,
              "#f0f921"
             ]
            ],
            "type": "heatmapgl"
           }
          ],
          "histogram": [
           {
            "marker": {
             "pattern": {
              "fillmode": "overlay",
              "size": 10,
              "solidity": 0.2
             }
            },
            "type": "histogram"
           }
          ],
          "histogram2d": [
           {
            "colorbar": {
             "outlinewidth": 0,
             "ticks": ""
            },
            "colorscale": [
             [
              0,
              "#0d0887"
             ],
             [
              0.1111111111111111,
              "#46039f"
             ],
             [
              0.2222222222222222,
              "#7201a8"
             ],
             [
              0.3333333333333333,
              "#9c179e"
             ],
             [
              0.4444444444444444,
              "#bd3786"
             ],
             [
              0.5555555555555556,
              "#d8576b"
             ],
             [
              0.6666666666666666,
              "#ed7953"
             ],
             [
              0.7777777777777778,
              "#fb9f3a"
             ],
             [
              0.8888888888888888,
              "#fdca26"
             ],
             [
              1,
              "#f0f921"
             ]
            ],
            "type": "histogram2d"
           }
          ],
          "histogram2dcontour": [
           {
            "colorbar": {
             "outlinewidth": 0,
             "ticks": ""
            },
            "colorscale": [
             [
              0,
              "#0d0887"
             ],
             [
              0.1111111111111111,
              "#46039f"
             ],
             [
              0.2222222222222222,
              "#7201a8"
             ],
             [
              0.3333333333333333,
              "#9c179e"
             ],
             [
              0.4444444444444444,
              "#bd3786"
             ],
             [
              0.5555555555555556,
              "#d8576b"
             ],
             [
              0.6666666666666666,
              "#ed7953"
             ],
             [
              0.7777777777777778,
              "#fb9f3a"
             ],
             [
              0.8888888888888888,
              "#fdca26"
             ],
             [
              1,
              "#f0f921"
             ]
            ],
            "type": "histogram2dcontour"
           }
          ],
          "mesh3d": [
           {
            "colorbar": {
             "outlinewidth": 0,
             "ticks": ""
            },
            "type": "mesh3d"
           }
          ],
          "parcoords": [
           {
            "line": {
             "colorbar": {
              "outlinewidth": 0,
              "ticks": ""
             }
            },
            "type": "parcoords"
           }
          ],
          "pie": [
           {
            "automargin": true,
            "type": "pie"
           }
          ],
          "scatter": [
           {
            "fillpattern": {
             "fillmode": "overlay",
             "size": 10,
             "solidity": 0.2
            },
            "type": "scatter"
           }
          ],
          "scatter3d": [
           {
            "line": {
             "colorbar": {
              "outlinewidth": 0,
              "ticks": ""
             }
            },
            "marker": {
             "colorbar": {
              "outlinewidth": 0,
              "ticks": ""
             }
            },
            "type": "scatter3d"
           }
          ],
          "scattercarpet": [
           {
            "marker": {
             "colorbar": {
              "outlinewidth": 0,
              "ticks": ""
             }
            },
            "type": "scattercarpet"
           }
          ],
          "scattergeo": [
           {
            "marker": {
             "colorbar": {
              "outlinewidth": 0,
              "ticks": ""
             }
            },
            "type": "scattergeo"
           }
          ],
          "scattergl": [
           {
            "marker": {
             "colorbar": {
              "outlinewidth": 0,
              "ticks": ""
             }
            },
            "type": "scattergl"
           }
          ],
          "scattermapbox": [
           {
            "marker": {
             "colorbar": {
              "outlinewidth": 0,
              "ticks": ""
             }
            },
            "type": "scattermapbox"
           }
          ],
          "scatterpolar": [
           {
            "marker": {
             "colorbar": {
              "outlinewidth": 0,
              "ticks": ""
             }
            },
            "type": "scatterpolar"
           }
          ],
          "scatterpolargl": [
           {
            "marker": {
             "colorbar": {
              "outlinewidth": 0,
              "ticks": ""
             }
            },
            "type": "scatterpolargl"
           }
          ],
          "scatterternary": [
           {
            "marker": {
             "colorbar": {
              "outlinewidth": 0,
              "ticks": ""
             }
            },
            "type": "scatterternary"
           }
          ],
          "surface": [
           {
            "colorbar": {
             "outlinewidth": 0,
             "ticks": ""
            },
            "colorscale": [
             [
              0,
              "#0d0887"
             ],
             [
              0.1111111111111111,
              "#46039f"
             ],
             [
              0.2222222222222222,
              "#7201a8"
             ],
             [
              0.3333333333333333,
              "#9c179e"
             ],
             [
              0.4444444444444444,
              "#bd3786"
             ],
             [
              0.5555555555555556,
              "#d8576b"
             ],
             [
              0.6666666666666666,
              "#ed7953"
             ],
             [
              0.7777777777777778,
              "#fb9f3a"
             ],
             [
              0.8888888888888888,
              "#fdca26"
             ],
             [
              1,
              "#f0f921"
             ]
            ],
            "type": "surface"
           }
          ],
          "table": [
           {
            "cells": {
             "fill": {
              "color": "#EBF0F8"
             },
             "line": {
              "color": "white"
             }
            },
            "header": {
             "fill": {
              "color": "#C8D4E3"
             },
             "line": {
              "color": "white"
             }
            },
            "type": "table"
           }
          ]
         },
         "layout": {
          "annotationdefaults": {
           "arrowcolor": "#2a3f5f",
           "arrowhead": 0,
           "arrowwidth": 1
          },
          "autotypenumbers": "strict",
          "coloraxis": {
           "colorbar": {
            "outlinewidth": 0,
            "ticks": ""
           }
          },
          "colorscale": {
           "diverging": [
            [
             0,
             "#8e0152"
            ],
            [
             0.1,
             "#c51b7d"
            ],
            [
             0.2,
             "#de77ae"
            ],
            [
             0.3,
             "#f1b6da"
            ],
            [
             0.4,
             "#fde0ef"
            ],
            [
             0.5,
             "#f7f7f7"
            ],
            [
             0.6,
             "#e6f5d0"
            ],
            [
             0.7,
             "#b8e186"
            ],
            [
             0.8,
             "#7fbc41"
            ],
            [
             0.9,
             "#4d9221"
            ],
            [
             1,
             "#276419"
            ]
           ],
           "sequential": [
            [
             0,
             "#0d0887"
            ],
            [
             0.1111111111111111,
             "#46039f"
            ],
            [
             0.2222222222222222,
             "#7201a8"
            ],
            [
             0.3333333333333333,
             "#9c179e"
            ],
            [
             0.4444444444444444,
             "#bd3786"
            ],
            [
             0.5555555555555556,
             "#d8576b"
            ],
            [
             0.6666666666666666,
             "#ed7953"
            ],
            [
             0.7777777777777778,
             "#fb9f3a"
            ],
            [
             0.8888888888888888,
             "#fdca26"
            ],
            [
             1,
             "#f0f921"
            ]
           ],
           "sequentialminus": [
            [
             0,
             "#0d0887"
            ],
            [
             0.1111111111111111,
             "#46039f"
            ],
            [
             0.2222222222222222,
             "#7201a8"
            ],
            [
             0.3333333333333333,
             "#9c179e"
            ],
            [
             0.4444444444444444,
             "#bd3786"
            ],
            [
             0.5555555555555556,
             "#d8576b"
            ],
            [
             0.6666666666666666,
             "#ed7953"
            ],
            [
             0.7777777777777778,
             "#fb9f3a"
            ],
            [
             0.8888888888888888,
             "#fdca26"
            ],
            [
             1,
             "#f0f921"
            ]
           ]
          },
          "colorway": [
           "#636efa",
           "#EF553B",
           "#00cc96",
           "#ab63fa",
           "#FFA15A",
           "#19d3f3",
           "#FF6692",
           "#B6E880",
           "#FF97FF",
           "#FECB52"
          ],
          "font": {
           "color": "#2a3f5f"
          },
          "geo": {
           "bgcolor": "white",
           "lakecolor": "white",
           "landcolor": "#E5ECF6",
           "showlakes": true,
           "showland": true,
           "subunitcolor": "white"
          },
          "hoverlabel": {
           "align": "left"
          },
          "hovermode": "closest",
          "mapbox": {
           "style": "light"
          },
          "paper_bgcolor": "white",
          "plot_bgcolor": "#E5ECF6",
          "polar": {
           "angularaxis": {
            "gridcolor": "white",
            "linecolor": "white",
            "ticks": ""
           },
           "bgcolor": "#E5ECF6",
           "radialaxis": {
            "gridcolor": "white",
            "linecolor": "white",
            "ticks": ""
           }
          },
          "scene": {
           "xaxis": {
            "backgroundcolor": "#E5ECF6",
            "gridcolor": "white",
            "gridwidth": 2,
            "linecolor": "white",
            "showbackground": true,
            "ticks": "",
            "zerolinecolor": "white"
           },
           "yaxis": {
            "backgroundcolor": "#E5ECF6",
            "gridcolor": "white",
            "gridwidth": 2,
            "linecolor": "white",
            "showbackground": true,
            "ticks": "",
            "zerolinecolor": "white"
           },
           "zaxis": {
            "backgroundcolor": "#E5ECF6",
            "gridcolor": "white",
            "gridwidth": 2,
            "linecolor": "white",
            "showbackground": true,
            "ticks": "",
            "zerolinecolor": "white"
           }
          },
          "shapedefaults": {
           "line": {
            "color": "#2a3f5f"
           }
          },
          "ternary": {
           "aaxis": {
            "gridcolor": "white",
            "linecolor": "white",
            "ticks": ""
           },
           "baxis": {
            "gridcolor": "white",
            "linecolor": "white",
            "ticks": ""
           },
           "bgcolor": "#E5ECF6",
           "caxis": {
            "gridcolor": "white",
            "linecolor": "white",
            "ticks": ""
           }
          },
          "title": {
           "x": 0.05
          },
          "xaxis": {
           "automargin": true,
           "gridcolor": "white",
           "linecolor": "white",
           "ticks": "",
           "title": {
            "standoff": 15
           },
           "zerolinecolor": "white",
           "zerolinewidth": 2
          },
          "yaxis": {
           "automargin": true,
           "gridcolor": "white",
           "linecolor": "white",
           "ticks": "",
           "title": {
            "standoff": 15
           },
           "zerolinecolor": "white",
           "zerolinewidth": 2
          }
         }
        },
        "title": {
         "text": "Factors influencing career aspirations"
        }
       }
      }
     },
     "metadata": {},
     "output_type": "display_data"
    }
   ],
   "source": [
    "question1 = data[\"Which of the below factors influence the most about your career aspirations ?\"].value_counts()\n",
    "label = question1.index\n",
    "counts = question1.values\n",
    "colors = ['gold','lightgreen']\n",
    "fig = go.Figure(data=[go.Pie(labels=label,values=counts)])\n",
    "fig.update_layout(title_text ='Factors influencing career aspirations')\n",
    "fig.update_traces(hoverinfo='label+value',textinfo='percent',\n",
    "                 textfont_size=30,\n",
    "                 marker=dict(colors=colors,\n",
    "                            line=dict(color='black',width=3)))\n",
    "fig.show()"
   ]
  },
  {
   "cell_type": "markdown",
   "id": "dc6f0269",
   "metadata": {},
   "source": [
    "# 3]  How many want to pursue higher education outside india with their investment:"
   ]
  },
  {
   "cell_type": "code",
   "execution_count": 8,
   "id": "6e7c7c21",
   "metadata": {},
   "outputs": [
    {
     "data": {
      "application/vnd.plotly.v1+json": {
       "config": {
        "plotlyServerURL": "https://plot.ly"
       },
       "data": [
        {
         "hoverinfo": "label+value",
         "labels": [
          "Yes, I will earn and do that",
          "No I would not be pursuing Higher Education outside of India",
          "No, But if someone could bare the cost I will"
         ],
         "marker": {
          "colors": [
           "orange",
           "black"
          ],
          "line": {
           "color": "black",
           "width": 3
          }
         },
         "textfont": {
          "size": 30
         },
         "textinfo": "percent",
         "type": "pie",
         "values": [
          110,
          65,
          60
         ]
        }
       ],
       "layout": {
        "template": {
         "data": {
          "bar": [
           {
            "error_x": {
             "color": "#2a3f5f"
            },
            "error_y": {
             "color": "#2a3f5f"
            },
            "marker": {
             "line": {
              "color": "#E5ECF6",
              "width": 0.5
             },
             "pattern": {
              "fillmode": "overlay",
              "size": 10,
              "solidity": 0.2
             }
            },
            "type": "bar"
           }
          ],
          "barpolar": [
           {
            "marker": {
             "line": {
              "color": "#E5ECF6",
              "width": 0.5
             },
             "pattern": {
              "fillmode": "overlay",
              "size": 10,
              "solidity": 0.2
             }
            },
            "type": "barpolar"
           }
          ],
          "carpet": [
           {
            "aaxis": {
             "endlinecolor": "#2a3f5f",
             "gridcolor": "white",
             "linecolor": "white",
             "minorgridcolor": "white",
             "startlinecolor": "#2a3f5f"
            },
            "baxis": {
             "endlinecolor": "#2a3f5f",
             "gridcolor": "white",
             "linecolor": "white",
             "minorgridcolor": "white",
             "startlinecolor": "#2a3f5f"
            },
            "type": "carpet"
           }
          ],
          "choropleth": [
           {
            "colorbar": {
             "outlinewidth": 0,
             "ticks": ""
            },
            "type": "choropleth"
           }
          ],
          "contour": [
           {
            "colorbar": {
             "outlinewidth": 0,
             "ticks": ""
            },
            "colorscale": [
             [
              0,
              "#0d0887"
             ],
             [
              0.1111111111111111,
              "#46039f"
             ],
             [
              0.2222222222222222,
              "#7201a8"
             ],
             [
              0.3333333333333333,
              "#9c179e"
             ],
             [
              0.4444444444444444,
              "#bd3786"
             ],
             [
              0.5555555555555556,
              "#d8576b"
             ],
             [
              0.6666666666666666,
              "#ed7953"
             ],
             [
              0.7777777777777778,
              "#fb9f3a"
             ],
             [
              0.8888888888888888,
              "#fdca26"
             ],
             [
              1,
              "#f0f921"
             ]
            ],
            "type": "contour"
           }
          ],
          "contourcarpet": [
           {
            "colorbar": {
             "outlinewidth": 0,
             "ticks": ""
            },
            "type": "contourcarpet"
           }
          ],
          "heatmap": [
           {
            "colorbar": {
             "outlinewidth": 0,
             "ticks": ""
            },
            "colorscale": [
             [
              0,
              "#0d0887"
             ],
             [
              0.1111111111111111,
              "#46039f"
             ],
             [
              0.2222222222222222,
              "#7201a8"
             ],
             [
              0.3333333333333333,
              "#9c179e"
             ],
             [
              0.4444444444444444,
              "#bd3786"
             ],
             [
              0.5555555555555556,
              "#d8576b"
             ],
             [
              0.6666666666666666,
              "#ed7953"
             ],
             [
              0.7777777777777778,
              "#fb9f3a"
             ],
             [
              0.8888888888888888,
              "#fdca26"
             ],
             [
              1,
              "#f0f921"
             ]
            ],
            "type": "heatmap"
           }
          ],
          "heatmapgl": [
           {
            "colorbar": {
             "outlinewidth": 0,
             "ticks": ""
            },
            "colorscale": [
             [
              0,
              "#0d0887"
             ],
             [
              0.1111111111111111,
              "#46039f"
             ],
             [
              0.2222222222222222,
              "#7201a8"
             ],
             [
              0.3333333333333333,
              "#9c179e"
             ],
             [
              0.4444444444444444,
              "#bd3786"
             ],
             [
              0.5555555555555556,
              "#d8576b"
             ],
             [
              0.6666666666666666,
              "#ed7953"
             ],
             [
              0.7777777777777778,
              "#fb9f3a"
             ],
             [
              0.8888888888888888,
              "#fdca26"
             ],
             [
              1,
              "#f0f921"
             ]
            ],
            "type": "heatmapgl"
           }
          ],
          "histogram": [
           {
            "marker": {
             "pattern": {
              "fillmode": "overlay",
              "size": 10,
              "solidity": 0.2
             }
            },
            "type": "histogram"
           }
          ],
          "histogram2d": [
           {
            "colorbar": {
             "outlinewidth": 0,
             "ticks": ""
            },
            "colorscale": [
             [
              0,
              "#0d0887"
             ],
             [
              0.1111111111111111,
              "#46039f"
             ],
             [
              0.2222222222222222,
              "#7201a8"
             ],
             [
              0.3333333333333333,
              "#9c179e"
             ],
             [
              0.4444444444444444,
              "#bd3786"
             ],
             [
              0.5555555555555556,
              "#d8576b"
             ],
             [
              0.6666666666666666,
              "#ed7953"
             ],
             [
              0.7777777777777778,
              "#fb9f3a"
             ],
             [
              0.8888888888888888,
              "#fdca26"
             ],
             [
              1,
              "#f0f921"
             ]
            ],
            "type": "histogram2d"
           }
          ],
          "histogram2dcontour": [
           {
            "colorbar": {
             "outlinewidth": 0,
             "ticks": ""
            },
            "colorscale": [
             [
              0,
              "#0d0887"
             ],
             [
              0.1111111111111111,
              "#46039f"
             ],
             [
              0.2222222222222222,
              "#7201a8"
             ],
             [
              0.3333333333333333,
              "#9c179e"
             ],
             [
              0.4444444444444444,
              "#bd3786"
             ],
             [
              0.5555555555555556,
              "#d8576b"
             ],
             [
              0.6666666666666666,
              "#ed7953"
             ],
             [
              0.7777777777777778,
              "#fb9f3a"
             ],
             [
              0.8888888888888888,
              "#fdca26"
             ],
             [
              1,
              "#f0f921"
             ]
            ],
            "type": "histogram2dcontour"
           }
          ],
          "mesh3d": [
           {
            "colorbar": {
             "outlinewidth": 0,
             "ticks": ""
            },
            "type": "mesh3d"
           }
          ],
          "parcoords": [
           {
            "line": {
             "colorbar": {
              "outlinewidth": 0,
              "ticks": ""
             }
            },
            "type": "parcoords"
           }
          ],
          "pie": [
           {
            "automargin": true,
            "type": "pie"
           }
          ],
          "scatter": [
           {
            "fillpattern": {
             "fillmode": "overlay",
             "size": 10,
             "solidity": 0.2
            },
            "type": "scatter"
           }
          ],
          "scatter3d": [
           {
            "line": {
             "colorbar": {
              "outlinewidth": 0,
              "ticks": ""
             }
            },
            "marker": {
             "colorbar": {
              "outlinewidth": 0,
              "ticks": ""
             }
            },
            "type": "scatter3d"
           }
          ],
          "scattercarpet": [
           {
            "marker": {
             "colorbar": {
              "outlinewidth": 0,
              "ticks": ""
             }
            },
            "type": "scattercarpet"
           }
          ],
          "scattergeo": [
           {
            "marker": {
             "colorbar": {
              "outlinewidth": 0,
              "ticks": ""
             }
            },
            "type": "scattergeo"
           }
          ],
          "scattergl": [
           {
            "marker": {
             "colorbar": {
              "outlinewidth": 0,
              "ticks": ""
             }
            },
            "type": "scattergl"
           }
          ],
          "scattermapbox": [
           {
            "marker": {
             "colorbar": {
              "outlinewidth": 0,
              "ticks": ""
             }
            },
            "type": "scattermapbox"
           }
          ],
          "scatterpolar": [
           {
            "marker": {
             "colorbar": {
              "outlinewidth": 0,
              "ticks": ""
             }
            },
            "type": "scatterpolar"
           }
          ],
          "scatterpolargl": [
           {
            "marker": {
             "colorbar": {
              "outlinewidth": 0,
              "ticks": ""
             }
            },
            "type": "scatterpolargl"
           }
          ],
          "scatterternary": [
           {
            "marker": {
             "colorbar": {
              "outlinewidth": 0,
              "ticks": ""
             }
            },
            "type": "scatterternary"
           }
          ],
          "surface": [
           {
            "colorbar": {
             "outlinewidth": 0,
             "ticks": ""
            },
            "colorscale": [
             [
              0,
              "#0d0887"
             ],
             [
              0.1111111111111111,
              "#46039f"
             ],
             [
              0.2222222222222222,
              "#7201a8"
             ],
             [
              0.3333333333333333,
              "#9c179e"
             ],
             [
              0.4444444444444444,
              "#bd3786"
             ],
             [
              0.5555555555555556,
              "#d8576b"
             ],
             [
              0.6666666666666666,
              "#ed7953"
             ],
             [
              0.7777777777777778,
              "#fb9f3a"
             ],
             [
              0.8888888888888888,
              "#fdca26"
             ],
             [
              1,
              "#f0f921"
             ]
            ],
            "type": "surface"
           }
          ],
          "table": [
           {
            "cells": {
             "fill": {
              "color": "#EBF0F8"
             },
             "line": {
              "color": "white"
             }
            },
            "header": {
             "fill": {
              "color": "#C8D4E3"
             },
             "line": {
              "color": "white"
             }
            },
            "type": "table"
           }
          ]
         },
         "layout": {
          "annotationdefaults": {
           "arrowcolor": "#2a3f5f",
           "arrowhead": 0,
           "arrowwidth": 1
          },
          "autotypenumbers": "strict",
          "coloraxis": {
           "colorbar": {
            "outlinewidth": 0,
            "ticks": ""
           }
          },
          "colorscale": {
           "diverging": [
            [
             0,
             "#8e0152"
            ],
            [
             0.1,
             "#c51b7d"
            ],
            [
             0.2,
             "#de77ae"
            ],
            [
             0.3,
             "#f1b6da"
            ],
            [
             0.4,
             "#fde0ef"
            ],
            [
             0.5,
             "#f7f7f7"
            ],
            [
             0.6,
             "#e6f5d0"
            ],
            [
             0.7,
             "#b8e186"
            ],
            [
             0.8,
             "#7fbc41"
            ],
            [
             0.9,
             "#4d9221"
            ],
            [
             1,
             "#276419"
            ]
           ],
           "sequential": [
            [
             0,
             "#0d0887"
            ],
            [
             0.1111111111111111,
             "#46039f"
            ],
            [
             0.2222222222222222,
             "#7201a8"
            ],
            [
             0.3333333333333333,
             "#9c179e"
            ],
            [
             0.4444444444444444,
             "#bd3786"
            ],
            [
             0.5555555555555556,
             "#d8576b"
            ],
            [
             0.6666666666666666,
             "#ed7953"
            ],
            [
             0.7777777777777778,
             "#fb9f3a"
            ],
            [
             0.8888888888888888,
             "#fdca26"
            ],
            [
             1,
             "#f0f921"
            ]
           ],
           "sequentialminus": [
            [
             0,
             "#0d0887"
            ],
            [
             0.1111111111111111,
             "#46039f"
            ],
            [
             0.2222222222222222,
             "#7201a8"
            ],
            [
             0.3333333333333333,
             "#9c179e"
            ],
            [
             0.4444444444444444,
             "#bd3786"
            ],
            [
             0.5555555555555556,
             "#d8576b"
            ],
            [
             0.6666666666666666,
             "#ed7953"
            ],
            [
             0.7777777777777778,
             "#fb9f3a"
            ],
            [
             0.8888888888888888,
             "#fdca26"
            ],
            [
             1,
             "#f0f921"
            ]
           ]
          },
          "colorway": [
           "#636efa",
           "#EF553B",
           "#00cc96",
           "#ab63fa",
           "#FFA15A",
           "#19d3f3",
           "#FF6692",
           "#B6E880",
           "#FF97FF",
           "#FECB52"
          ],
          "font": {
           "color": "#2a3f5f"
          },
          "geo": {
           "bgcolor": "white",
           "lakecolor": "white",
           "landcolor": "#E5ECF6",
           "showlakes": true,
           "showland": true,
           "subunitcolor": "white"
          },
          "hoverlabel": {
           "align": "left"
          },
          "hovermode": "closest",
          "mapbox": {
           "style": "light"
          },
          "paper_bgcolor": "white",
          "plot_bgcolor": "#E5ECF6",
          "polar": {
           "angularaxis": {
            "gridcolor": "white",
            "linecolor": "white",
            "ticks": ""
           },
           "bgcolor": "#E5ECF6",
           "radialaxis": {
            "gridcolor": "white",
            "linecolor": "white",
            "ticks": ""
           }
          },
          "scene": {
           "xaxis": {
            "backgroundcolor": "#E5ECF6",
            "gridcolor": "white",
            "gridwidth": 2,
            "linecolor": "white",
            "showbackground": true,
            "ticks": "",
            "zerolinecolor": "white"
           },
           "yaxis": {
            "backgroundcolor": "#E5ECF6",
            "gridcolor": "white",
            "gridwidth": 2,
            "linecolor": "white",
            "showbackground": true,
            "ticks": "",
            "zerolinecolor": "white"
           },
           "zaxis": {
            "backgroundcolor": "#E5ECF6",
            "gridcolor": "white",
            "gridwidth": 2,
            "linecolor": "white",
            "showbackground": true,
            "ticks": "",
            "zerolinecolor": "white"
           }
          },
          "shapedefaults": {
           "line": {
            "color": "#2a3f5f"
           }
          },
          "ternary": {
           "aaxis": {
            "gridcolor": "white",
            "linecolor": "white",
            "ticks": ""
           },
           "baxis": {
            "gridcolor": "white",
            "linecolor": "white",
            "ticks": ""
           },
           "bgcolor": "#E5ECF6",
           "caxis": {
            "gridcolor": "white",
            "linecolor": "white",
            "ticks": ""
           }
          },
          "title": {
           "x": 0.05
          },
          "xaxis": {
           "automargin": true,
           "gridcolor": "white",
           "linecolor": "white",
           "ticks": "",
           "title": {
            "standoff": 15
           },
           "zerolinecolor": "white",
           "zerolinewidth": 2
          },
          "yaxis": {
           "automargin": true,
           "gridcolor": "white",
           "linecolor": "white",
           "ticks": "",
           "title": {
            "standoff": 15
           },
           "zerolinecolor": "white",
           "zerolinewidth": 2
          }
         }
        },
        "title": {
         "text": "will you pursue a Higher Education outside india"
        }
       }
      }
     },
     "metadata": {},
     "output_type": "display_data"
    }
   ],
   "source": [
    "question2 = data[\"Would you definitely pursue a Higher Education / Post Graduation outside of India ? If only you have to self sponsor it.\"].value_counts()\n",
    "label = question2.index\n",
    "counts = question2.values\n",
    "colors = ['orange','black']\n",
    "fig = go.Figure(data=[go.Pie(labels=label,values=counts)])\n",
    "fig.update_layout(title_text ='will you pursue a Higher Education outside india')\n",
    "fig.update_traces(hoverinfo='label+value',textinfo='percent',\n",
    "                 textfont_size=30,\n",
    "                 marker=dict(colors=colors,\n",
    "                            line=dict(color='black',width=3)))\n",
    "fig.show()\n"
   ]
  },
  {
   "cell_type": "markdown",
   "id": "c27feacf",
   "metadata": {},
   "source": [
    "# 4] How likely Genz is to work for one employee for three years or more:"
   ]
  },
  {
   "cell_type": "code",
   "execution_count": 9,
   "id": "679ac89b",
   "metadata": {},
   "outputs": [
    {
     "data": {
      "application/vnd.plotly.v1+json": {
       "config": {
        "plotlyServerURL": "https://plot.ly"
       },
       "data": [
        {
         "hoverinfo": "label+value",
         "labels": [
          "This will be hard to do, but if it is the right company I would try",
          "Will work for 3 years or more",
          "No way, 3 years with one employer is crazy"
         ],
         "marker": {
          "colors": [
           "aqua",
           "red"
          ],
          "line": {
           "color": "black",
           "width": 3
          }
         },
         "textfont": {
          "size": 30
         },
         "textinfo": "percent",
         "type": "pie",
         "values": [
          139,
          79,
          17
         ]
        }
       ],
       "layout": {
        "template": {
         "data": {
          "bar": [
           {
            "error_x": {
             "color": "#2a3f5f"
            },
            "error_y": {
             "color": "#2a3f5f"
            },
            "marker": {
             "line": {
              "color": "#E5ECF6",
              "width": 0.5
             },
             "pattern": {
              "fillmode": "overlay",
              "size": 10,
              "solidity": 0.2
             }
            },
            "type": "bar"
           }
          ],
          "barpolar": [
           {
            "marker": {
             "line": {
              "color": "#E5ECF6",
              "width": 0.5
             },
             "pattern": {
              "fillmode": "overlay",
              "size": 10,
              "solidity": 0.2
             }
            },
            "type": "barpolar"
           }
          ],
          "carpet": [
           {
            "aaxis": {
             "endlinecolor": "#2a3f5f",
             "gridcolor": "white",
             "linecolor": "white",
             "minorgridcolor": "white",
             "startlinecolor": "#2a3f5f"
            },
            "baxis": {
             "endlinecolor": "#2a3f5f",
             "gridcolor": "white",
             "linecolor": "white",
             "minorgridcolor": "white",
             "startlinecolor": "#2a3f5f"
            },
            "type": "carpet"
           }
          ],
          "choropleth": [
           {
            "colorbar": {
             "outlinewidth": 0,
             "ticks": ""
            },
            "type": "choropleth"
           }
          ],
          "contour": [
           {
            "colorbar": {
             "outlinewidth": 0,
             "ticks": ""
            },
            "colorscale": [
             [
              0,
              "#0d0887"
             ],
             [
              0.1111111111111111,
              "#46039f"
             ],
             [
              0.2222222222222222,
              "#7201a8"
             ],
             [
              0.3333333333333333,
              "#9c179e"
             ],
             [
              0.4444444444444444,
              "#bd3786"
             ],
             [
              0.5555555555555556,
              "#d8576b"
             ],
             [
              0.6666666666666666,
              "#ed7953"
             ],
             [
              0.7777777777777778,
              "#fb9f3a"
             ],
             [
              0.8888888888888888,
              "#fdca26"
             ],
             [
              1,
              "#f0f921"
             ]
            ],
            "type": "contour"
           }
          ],
          "contourcarpet": [
           {
            "colorbar": {
             "outlinewidth": 0,
             "ticks": ""
            },
            "type": "contourcarpet"
           }
          ],
          "heatmap": [
           {
            "colorbar": {
             "outlinewidth": 0,
             "ticks": ""
            },
            "colorscale": [
             [
              0,
              "#0d0887"
             ],
             [
              0.1111111111111111,
              "#46039f"
             ],
             [
              0.2222222222222222,
              "#7201a8"
             ],
             [
              0.3333333333333333,
              "#9c179e"
             ],
             [
              0.4444444444444444,
              "#bd3786"
             ],
             [
              0.5555555555555556,
              "#d8576b"
             ],
             [
              0.6666666666666666,
              "#ed7953"
             ],
             [
              0.7777777777777778,
              "#fb9f3a"
             ],
             [
              0.8888888888888888,
              "#fdca26"
             ],
             [
              1,
              "#f0f921"
             ]
            ],
            "type": "heatmap"
           }
          ],
          "heatmapgl": [
           {
            "colorbar": {
             "outlinewidth": 0,
             "ticks": ""
            },
            "colorscale": [
             [
              0,
              "#0d0887"
             ],
             [
              0.1111111111111111,
              "#46039f"
             ],
             [
              0.2222222222222222,
              "#7201a8"
             ],
             [
              0.3333333333333333,
              "#9c179e"
             ],
             [
              0.4444444444444444,
              "#bd3786"
             ],
             [
              0.5555555555555556,
              "#d8576b"
             ],
             [
              0.6666666666666666,
              "#ed7953"
             ],
             [
              0.7777777777777778,
              "#fb9f3a"
             ],
             [
              0.8888888888888888,
              "#fdca26"
             ],
             [
              1,
              "#f0f921"
             ]
            ],
            "type": "heatmapgl"
           }
          ],
          "histogram": [
           {
            "marker": {
             "pattern": {
              "fillmode": "overlay",
              "size": 10,
              "solidity": 0.2
             }
            },
            "type": "histogram"
           }
          ],
          "histogram2d": [
           {
            "colorbar": {
             "outlinewidth": 0,
             "ticks": ""
            },
            "colorscale": [
             [
              0,
              "#0d0887"
             ],
             [
              0.1111111111111111,
              "#46039f"
             ],
             [
              0.2222222222222222,
              "#7201a8"
             ],
             [
              0.3333333333333333,
              "#9c179e"
             ],
             [
              0.4444444444444444,
              "#bd3786"
             ],
             [
              0.5555555555555556,
              "#d8576b"
             ],
             [
              0.6666666666666666,
              "#ed7953"
             ],
             [
              0.7777777777777778,
              "#fb9f3a"
             ],
             [
              0.8888888888888888,
              "#fdca26"
             ],
             [
              1,
              "#f0f921"
             ]
            ],
            "type": "histogram2d"
           }
          ],
          "histogram2dcontour": [
           {
            "colorbar": {
             "outlinewidth": 0,
             "ticks": ""
            },
            "colorscale": [
             [
              0,
              "#0d0887"
             ],
             [
              0.1111111111111111,
              "#46039f"
             ],
             [
              0.2222222222222222,
              "#7201a8"
             ],
             [
              0.3333333333333333,
              "#9c179e"
             ],
             [
              0.4444444444444444,
              "#bd3786"
             ],
             [
              0.5555555555555556,
              "#d8576b"
             ],
             [
              0.6666666666666666,
              "#ed7953"
             ],
             [
              0.7777777777777778,
              "#fb9f3a"
             ],
             [
              0.8888888888888888,
              "#fdca26"
             ],
             [
              1,
              "#f0f921"
             ]
            ],
            "type": "histogram2dcontour"
           }
          ],
          "mesh3d": [
           {
            "colorbar": {
             "outlinewidth": 0,
             "ticks": ""
            },
            "type": "mesh3d"
           }
          ],
          "parcoords": [
           {
            "line": {
             "colorbar": {
              "outlinewidth": 0,
              "ticks": ""
             }
            },
            "type": "parcoords"
           }
          ],
          "pie": [
           {
            "automargin": true,
            "type": "pie"
           }
          ],
          "scatter": [
           {
            "fillpattern": {
             "fillmode": "overlay",
             "size": 10,
             "solidity": 0.2
            },
            "type": "scatter"
           }
          ],
          "scatter3d": [
           {
            "line": {
             "colorbar": {
              "outlinewidth": 0,
              "ticks": ""
             }
            },
            "marker": {
             "colorbar": {
              "outlinewidth": 0,
              "ticks": ""
             }
            },
            "type": "scatter3d"
           }
          ],
          "scattercarpet": [
           {
            "marker": {
             "colorbar": {
              "outlinewidth": 0,
              "ticks": ""
             }
            },
            "type": "scattercarpet"
           }
          ],
          "scattergeo": [
           {
            "marker": {
             "colorbar": {
              "outlinewidth": 0,
              "ticks": ""
             }
            },
            "type": "scattergeo"
           }
          ],
          "scattergl": [
           {
            "marker": {
             "colorbar": {
              "outlinewidth": 0,
              "ticks": ""
             }
            },
            "type": "scattergl"
           }
          ],
          "scattermapbox": [
           {
            "marker": {
             "colorbar": {
              "outlinewidth": 0,
              "ticks": ""
             }
            },
            "type": "scattermapbox"
           }
          ],
          "scatterpolar": [
           {
            "marker": {
             "colorbar": {
              "outlinewidth": 0,
              "ticks": ""
             }
            },
            "type": "scatterpolar"
           }
          ],
          "scatterpolargl": [
           {
            "marker": {
             "colorbar": {
              "outlinewidth": 0,
              "ticks": ""
             }
            },
            "type": "scatterpolargl"
           }
          ],
          "scatterternary": [
           {
            "marker": {
             "colorbar": {
              "outlinewidth": 0,
              "ticks": ""
             }
            },
            "type": "scatterternary"
           }
          ],
          "surface": [
           {
            "colorbar": {
             "outlinewidth": 0,
             "ticks": ""
            },
            "colorscale": [
             [
              0,
              "#0d0887"
             ],
             [
              0.1111111111111111,
              "#46039f"
             ],
             [
              0.2222222222222222,
              "#7201a8"
             ],
             [
              0.3333333333333333,
              "#9c179e"
             ],
             [
              0.4444444444444444,
              "#bd3786"
             ],
             [
              0.5555555555555556,
              "#d8576b"
             ],
             [
              0.6666666666666666,
              "#ed7953"
             ],
             [
              0.7777777777777778,
              "#fb9f3a"
             ],
             [
              0.8888888888888888,
              "#fdca26"
             ],
             [
              1,
              "#f0f921"
             ]
            ],
            "type": "surface"
           }
          ],
          "table": [
           {
            "cells": {
             "fill": {
              "color": "#EBF0F8"
             },
             "line": {
              "color": "white"
             }
            },
            "header": {
             "fill": {
              "color": "#C8D4E3"
             },
             "line": {
              "color": "white"
             }
            },
            "type": "table"
           }
          ]
         },
         "layout": {
          "annotationdefaults": {
           "arrowcolor": "#2a3f5f",
           "arrowhead": 0,
           "arrowwidth": 1
          },
          "autotypenumbers": "strict",
          "coloraxis": {
           "colorbar": {
            "outlinewidth": 0,
            "ticks": ""
           }
          },
          "colorscale": {
           "diverging": [
            [
             0,
             "#8e0152"
            ],
            [
             0.1,
             "#c51b7d"
            ],
            [
             0.2,
             "#de77ae"
            ],
            [
             0.3,
             "#f1b6da"
            ],
            [
             0.4,
             "#fde0ef"
            ],
            [
             0.5,
             "#f7f7f7"
            ],
            [
             0.6,
             "#e6f5d0"
            ],
            [
             0.7,
             "#b8e186"
            ],
            [
             0.8,
             "#7fbc41"
            ],
            [
             0.9,
             "#4d9221"
            ],
            [
             1,
             "#276419"
            ]
           ],
           "sequential": [
            [
             0,
             "#0d0887"
            ],
            [
             0.1111111111111111,
             "#46039f"
            ],
            [
             0.2222222222222222,
             "#7201a8"
            ],
            [
             0.3333333333333333,
             "#9c179e"
            ],
            [
             0.4444444444444444,
             "#bd3786"
            ],
            [
             0.5555555555555556,
             "#d8576b"
            ],
            [
             0.6666666666666666,
             "#ed7953"
            ],
            [
             0.7777777777777778,
             "#fb9f3a"
            ],
            [
             0.8888888888888888,
             "#fdca26"
            ],
            [
             1,
             "#f0f921"
            ]
           ],
           "sequentialminus": [
            [
             0,
             "#0d0887"
            ],
            [
             0.1111111111111111,
             "#46039f"
            ],
            [
             0.2222222222222222,
             "#7201a8"
            ],
            [
             0.3333333333333333,
             "#9c179e"
            ],
            [
             0.4444444444444444,
             "#bd3786"
            ],
            [
             0.5555555555555556,
             "#d8576b"
            ],
            [
             0.6666666666666666,
             "#ed7953"
            ],
            [
             0.7777777777777778,
             "#fb9f3a"
            ],
            [
             0.8888888888888888,
             "#fdca26"
            ],
            [
             1,
             "#f0f921"
            ]
           ]
          },
          "colorway": [
           "#636efa",
           "#EF553B",
           "#00cc96",
           "#ab63fa",
           "#FFA15A",
           "#19d3f3",
           "#FF6692",
           "#B6E880",
           "#FF97FF",
           "#FECB52"
          ],
          "font": {
           "color": "#2a3f5f"
          },
          "geo": {
           "bgcolor": "white",
           "lakecolor": "white",
           "landcolor": "#E5ECF6",
           "showlakes": true,
           "showland": true,
           "subunitcolor": "white"
          },
          "hoverlabel": {
           "align": "left"
          },
          "hovermode": "closest",
          "mapbox": {
           "style": "light"
          },
          "paper_bgcolor": "white",
          "plot_bgcolor": "#E5ECF6",
          "polar": {
           "angularaxis": {
            "gridcolor": "white",
            "linecolor": "white",
            "ticks": ""
           },
           "bgcolor": "#E5ECF6",
           "radialaxis": {
            "gridcolor": "white",
            "linecolor": "white",
            "ticks": ""
           }
          },
          "scene": {
           "xaxis": {
            "backgroundcolor": "#E5ECF6",
            "gridcolor": "white",
            "gridwidth": 2,
            "linecolor": "white",
            "showbackground": true,
            "ticks": "",
            "zerolinecolor": "white"
           },
           "yaxis": {
            "backgroundcolor": "#E5ECF6",
            "gridcolor": "white",
            "gridwidth": 2,
            "linecolor": "white",
            "showbackground": true,
            "ticks": "",
            "zerolinecolor": "white"
           },
           "zaxis": {
            "backgroundcolor": "#E5ECF6",
            "gridcolor": "white",
            "gridwidth": 2,
            "linecolor": "white",
            "showbackground": true,
            "ticks": "",
            "zerolinecolor": "white"
           }
          },
          "shapedefaults": {
           "line": {
            "color": "#2a3f5f"
           }
          },
          "ternary": {
           "aaxis": {
            "gridcolor": "white",
            "linecolor": "white",
            "ticks": ""
           },
           "baxis": {
            "gridcolor": "white",
            "linecolor": "white",
            "ticks": ""
           },
           "bgcolor": "#E5ECF6",
           "caxis": {
            "gridcolor": "white",
            "linecolor": "white",
            "ticks": ""
           }
          },
          "title": {
           "x": 0.05
          },
          "xaxis": {
           "automargin": true,
           "gridcolor": "white",
           "linecolor": "white",
           "ticks": "",
           "title": {
            "standoff": 15
           },
           "zerolinecolor": "white",
           "zerolinewidth": 2
          },
          "yaxis": {
           "automargin": true,
           "gridcolor": "white",
           "linecolor": "white",
           "ticks": "",
           "title": {
            "standoff": 15
           },
           "zerolinecolor": "white",
           "zerolinewidth": 2
          }
         }
        },
        "title": {
         "text": "How likely is that you will work for one employer for 3 years or more ?"
        }
       }
      }
     },
     "metadata": {},
     "output_type": "display_data"
    }
   ],
   "source": [
    "question3 = data[\"How likely is that you will work for one employer for 3 years or more ?\"].value_counts()\n",
    "label = question3.index\n",
    "counts = question3.values\n",
    "colors = ['aqua','red']\n",
    "fig = go.Figure(data=[go.Pie(labels=label,values=counts)])\n",
    "fig.update_layout(title_text ='How likely is that you will work for one employer for 3 years or more ?')\n",
    "fig.update_traces(hoverinfo='label+value',\n",
    "                 textinfo='percent',\n",
    "                 textfont_size=30,\n",
    "                 marker=dict(colors=colors,line=dict(color='black',width=3)))\n",
    "\n",
    "question3\n",
    "fig.show()"
   ]
  },
  {
   "cell_type": "code",
   "execution_count": 10,
   "id": "caed7161",
   "metadata": {},
   "outputs": [
    {
     "data": {
      "text/plain": [
       "How likely is that you will work for one employer for 3 years or more ?\n",
       "This will be hard to do, but if it is the right company I would try    139\n",
       "Will work for 3 years or more                                           79\n",
       "No way, 3 years with one employer is crazy                              17\n",
       "Name: count, dtype: int64"
      ]
     },
     "execution_count": 10,
     "metadata": {},
     "output_type": "execute_result"
    }
   ],
   "source": [
    "question3"
   ]
  },
  {
   "cell_type": "markdown",
   "id": "58cd7a3b",
   "metadata": {},
   "source": [
    "# 5]  Now let's  have a look at the preferred working environment og Genz:"
   ]
  },
  {
   "cell_type": "code",
   "execution_count": 11,
   "id": "6d227e55",
   "metadata": {},
   "outputs": [
    {
     "data": {
      "application/vnd.plotly.v1+json": {
       "config": {
        "plotlyServerURL": "https://plot.ly"
       },
       "data": [
        {
         "hoverinfo": "label+value",
         "labels": [
          "Fully Remote with Options to travel as and when needed",
          "Hybrid Working Environment with less than 15 days a month at office",
          "Every Day Office Environment",
          "Hybrid Working Environment with less than 10 days a month at office",
          "Hybrid Working Environment with less than 3 days a month at office",
          "Fully Remote with No option to visit offices"
         ],
         "marker": {
          "colors": [
           "gold",
           "lightgreen"
          ],
          "line": {
           "color": "black",
           "width": 3
          }
         },
         "textfont": {
          "size": 30
         },
         "textinfo": "percent",
         "type": "pie",
         "values": [
          60,
          57,
          50,
          31,
          26,
          11
         ]
        }
       ],
       "layout": {
        "template": {
         "data": {
          "bar": [
           {
            "error_x": {
             "color": "#2a3f5f"
            },
            "error_y": {
             "color": "#2a3f5f"
            },
            "marker": {
             "line": {
              "color": "#E5ECF6",
              "width": 0.5
             },
             "pattern": {
              "fillmode": "overlay",
              "size": 10,
              "solidity": 0.2
             }
            },
            "type": "bar"
           }
          ],
          "barpolar": [
           {
            "marker": {
             "line": {
              "color": "#E5ECF6",
              "width": 0.5
             },
             "pattern": {
              "fillmode": "overlay",
              "size": 10,
              "solidity": 0.2
             }
            },
            "type": "barpolar"
           }
          ],
          "carpet": [
           {
            "aaxis": {
             "endlinecolor": "#2a3f5f",
             "gridcolor": "white",
             "linecolor": "white",
             "minorgridcolor": "white",
             "startlinecolor": "#2a3f5f"
            },
            "baxis": {
             "endlinecolor": "#2a3f5f",
             "gridcolor": "white",
             "linecolor": "white",
             "minorgridcolor": "white",
             "startlinecolor": "#2a3f5f"
            },
            "type": "carpet"
           }
          ],
          "choropleth": [
           {
            "colorbar": {
             "outlinewidth": 0,
             "ticks": ""
            },
            "type": "choropleth"
           }
          ],
          "contour": [
           {
            "colorbar": {
             "outlinewidth": 0,
             "ticks": ""
            },
            "colorscale": [
             [
              0,
              "#0d0887"
             ],
             [
              0.1111111111111111,
              "#46039f"
             ],
             [
              0.2222222222222222,
              "#7201a8"
             ],
             [
              0.3333333333333333,
              "#9c179e"
             ],
             [
              0.4444444444444444,
              "#bd3786"
             ],
             [
              0.5555555555555556,
              "#d8576b"
             ],
             [
              0.6666666666666666,
              "#ed7953"
             ],
             [
              0.7777777777777778,
              "#fb9f3a"
             ],
             [
              0.8888888888888888,
              "#fdca26"
             ],
             [
              1,
              "#f0f921"
             ]
            ],
            "type": "contour"
           }
          ],
          "contourcarpet": [
           {
            "colorbar": {
             "outlinewidth": 0,
             "ticks": ""
            },
            "type": "contourcarpet"
           }
          ],
          "heatmap": [
           {
            "colorbar": {
             "outlinewidth": 0,
             "ticks": ""
            },
            "colorscale": [
             [
              0,
              "#0d0887"
             ],
             [
              0.1111111111111111,
              "#46039f"
             ],
             [
              0.2222222222222222,
              "#7201a8"
             ],
             [
              0.3333333333333333,
              "#9c179e"
             ],
             [
              0.4444444444444444,
              "#bd3786"
             ],
             [
              0.5555555555555556,
              "#d8576b"
             ],
             [
              0.6666666666666666,
              "#ed7953"
             ],
             [
              0.7777777777777778,
              "#fb9f3a"
             ],
             [
              0.8888888888888888,
              "#fdca26"
             ],
             [
              1,
              "#f0f921"
             ]
            ],
            "type": "heatmap"
           }
          ],
          "heatmapgl": [
           {
            "colorbar": {
             "outlinewidth": 0,
             "ticks": ""
            },
            "colorscale": [
             [
              0,
              "#0d0887"
             ],
             [
              0.1111111111111111,
              "#46039f"
             ],
             [
              0.2222222222222222,
              "#7201a8"
             ],
             [
              0.3333333333333333,
              "#9c179e"
             ],
             [
              0.4444444444444444,
              "#bd3786"
             ],
             [
              0.5555555555555556,
              "#d8576b"
             ],
             [
              0.6666666666666666,
              "#ed7953"
             ],
             [
              0.7777777777777778,
              "#fb9f3a"
             ],
             [
              0.8888888888888888,
              "#fdca26"
             ],
             [
              1,
              "#f0f921"
             ]
            ],
            "type": "heatmapgl"
           }
          ],
          "histogram": [
           {
            "marker": {
             "pattern": {
              "fillmode": "overlay",
              "size": 10,
              "solidity": 0.2
             }
            },
            "type": "histogram"
           }
          ],
          "histogram2d": [
           {
            "colorbar": {
             "outlinewidth": 0,
             "ticks": ""
            },
            "colorscale": [
             [
              0,
              "#0d0887"
             ],
             [
              0.1111111111111111,
              "#46039f"
             ],
             [
              0.2222222222222222,
              "#7201a8"
             ],
             [
              0.3333333333333333,
              "#9c179e"
             ],
             [
              0.4444444444444444,
              "#bd3786"
             ],
             [
              0.5555555555555556,
              "#d8576b"
             ],
             [
              0.6666666666666666,
              "#ed7953"
             ],
             [
              0.7777777777777778,
              "#fb9f3a"
             ],
             [
              0.8888888888888888,
              "#fdca26"
             ],
             [
              1,
              "#f0f921"
             ]
            ],
            "type": "histogram2d"
           }
          ],
          "histogram2dcontour": [
           {
            "colorbar": {
             "outlinewidth": 0,
             "ticks": ""
            },
            "colorscale": [
             [
              0,
              "#0d0887"
             ],
             [
              0.1111111111111111,
              "#46039f"
             ],
             [
              0.2222222222222222,
              "#7201a8"
             ],
             [
              0.3333333333333333,
              "#9c179e"
             ],
             [
              0.4444444444444444,
              "#bd3786"
             ],
             [
              0.5555555555555556,
              "#d8576b"
             ],
             [
              0.6666666666666666,
              "#ed7953"
             ],
             [
              0.7777777777777778,
              "#fb9f3a"
             ],
             [
              0.8888888888888888,
              "#fdca26"
             ],
             [
              1,
              "#f0f921"
             ]
            ],
            "type": "histogram2dcontour"
           }
          ],
          "mesh3d": [
           {
            "colorbar": {
             "outlinewidth": 0,
             "ticks": ""
            },
            "type": "mesh3d"
           }
          ],
          "parcoords": [
           {
            "line": {
             "colorbar": {
              "outlinewidth": 0,
              "ticks": ""
             }
            },
            "type": "parcoords"
           }
          ],
          "pie": [
           {
            "automargin": true,
            "type": "pie"
           }
          ],
          "scatter": [
           {
            "fillpattern": {
             "fillmode": "overlay",
             "size": 10,
             "solidity": 0.2
            },
            "type": "scatter"
           }
          ],
          "scatter3d": [
           {
            "line": {
             "colorbar": {
              "outlinewidth": 0,
              "ticks": ""
             }
            },
            "marker": {
             "colorbar": {
              "outlinewidth": 0,
              "ticks": ""
             }
            },
            "type": "scatter3d"
           }
          ],
          "scattercarpet": [
           {
            "marker": {
             "colorbar": {
              "outlinewidth": 0,
              "ticks": ""
             }
            },
            "type": "scattercarpet"
           }
          ],
          "scattergeo": [
           {
            "marker": {
             "colorbar": {
              "outlinewidth": 0,
              "ticks": ""
             }
            },
            "type": "scattergeo"
           }
          ],
          "scattergl": [
           {
            "marker": {
             "colorbar": {
              "outlinewidth": 0,
              "ticks": ""
             }
            },
            "type": "scattergl"
           }
          ],
          "scattermapbox": [
           {
            "marker": {
             "colorbar": {
              "outlinewidth": 0,
              "ticks": ""
             }
            },
            "type": "scattermapbox"
           }
          ],
          "scatterpolar": [
           {
            "marker": {
             "colorbar": {
              "outlinewidth": 0,
              "ticks": ""
             }
            },
            "type": "scatterpolar"
           }
          ],
          "scatterpolargl": [
           {
            "marker": {
             "colorbar": {
              "outlinewidth": 0,
              "ticks": ""
             }
            },
            "type": "scatterpolargl"
           }
          ],
          "scatterternary": [
           {
            "marker": {
             "colorbar": {
              "outlinewidth": 0,
              "ticks": ""
             }
            },
            "type": "scatterternary"
           }
          ],
          "surface": [
           {
            "colorbar": {
             "outlinewidth": 0,
             "ticks": ""
            },
            "colorscale": [
             [
              0,
              "#0d0887"
             ],
             [
              0.1111111111111111,
              "#46039f"
             ],
             [
              0.2222222222222222,
              "#7201a8"
             ],
             [
              0.3333333333333333,
              "#9c179e"
             ],
             [
              0.4444444444444444,
              "#bd3786"
             ],
             [
              0.5555555555555556,
              "#d8576b"
             ],
             [
              0.6666666666666666,
              "#ed7953"
             ],
             [
              0.7777777777777778,
              "#fb9f3a"
             ],
             [
              0.8888888888888888,
              "#fdca26"
             ],
             [
              1,
              "#f0f921"
             ]
            ],
            "type": "surface"
           }
          ],
          "table": [
           {
            "cells": {
             "fill": {
              "color": "#EBF0F8"
             },
             "line": {
              "color": "white"
             }
            },
            "header": {
             "fill": {
              "color": "#C8D4E3"
             },
             "line": {
              "color": "white"
             }
            },
            "type": "table"
           }
          ]
         },
         "layout": {
          "annotationdefaults": {
           "arrowcolor": "#2a3f5f",
           "arrowhead": 0,
           "arrowwidth": 1
          },
          "autotypenumbers": "strict",
          "coloraxis": {
           "colorbar": {
            "outlinewidth": 0,
            "ticks": ""
           }
          },
          "colorscale": {
           "diverging": [
            [
             0,
             "#8e0152"
            ],
            [
             0.1,
             "#c51b7d"
            ],
            [
             0.2,
             "#de77ae"
            ],
            [
             0.3,
             "#f1b6da"
            ],
            [
             0.4,
             "#fde0ef"
            ],
            [
             0.5,
             "#f7f7f7"
            ],
            [
             0.6,
             "#e6f5d0"
            ],
            [
             0.7,
             "#b8e186"
            ],
            [
             0.8,
             "#7fbc41"
            ],
            [
             0.9,
             "#4d9221"
            ],
            [
             1,
             "#276419"
            ]
           ],
           "sequential": [
            [
             0,
             "#0d0887"
            ],
            [
             0.1111111111111111,
             "#46039f"
            ],
            [
             0.2222222222222222,
             "#7201a8"
            ],
            [
             0.3333333333333333,
             "#9c179e"
            ],
            [
             0.4444444444444444,
             "#bd3786"
            ],
            [
             0.5555555555555556,
             "#d8576b"
            ],
            [
             0.6666666666666666,
             "#ed7953"
            ],
            [
             0.7777777777777778,
             "#fb9f3a"
            ],
            [
             0.8888888888888888,
             "#fdca26"
            ],
            [
             1,
             "#f0f921"
            ]
           ],
           "sequentialminus": [
            [
             0,
             "#0d0887"
            ],
            [
             0.1111111111111111,
             "#46039f"
            ],
            [
             0.2222222222222222,
             "#7201a8"
            ],
            [
             0.3333333333333333,
             "#9c179e"
            ],
            [
             0.4444444444444444,
             "#bd3786"
            ],
            [
             0.5555555555555556,
             "#d8576b"
            ],
            [
             0.6666666666666666,
             "#ed7953"
            ],
            [
             0.7777777777777778,
             "#fb9f3a"
            ],
            [
             0.8888888888888888,
             "#fdca26"
            ],
            [
             1,
             "#f0f921"
            ]
           ]
          },
          "colorway": [
           "#636efa",
           "#EF553B",
           "#00cc96",
           "#ab63fa",
           "#FFA15A",
           "#19d3f3",
           "#FF6692",
           "#B6E880",
           "#FF97FF",
           "#FECB52"
          ],
          "font": {
           "color": "#2a3f5f"
          },
          "geo": {
           "bgcolor": "white",
           "lakecolor": "white",
           "landcolor": "#E5ECF6",
           "showlakes": true,
           "showland": true,
           "subunitcolor": "white"
          },
          "hoverlabel": {
           "align": "left"
          },
          "hovermode": "closest",
          "mapbox": {
           "style": "light"
          },
          "paper_bgcolor": "white",
          "plot_bgcolor": "#E5ECF6",
          "polar": {
           "angularaxis": {
            "gridcolor": "white",
            "linecolor": "white",
            "ticks": ""
           },
           "bgcolor": "#E5ECF6",
           "radialaxis": {
            "gridcolor": "white",
            "linecolor": "white",
            "ticks": ""
           }
          },
          "scene": {
           "xaxis": {
            "backgroundcolor": "#E5ECF6",
            "gridcolor": "white",
            "gridwidth": 2,
            "linecolor": "white",
            "showbackground": true,
            "ticks": "",
            "zerolinecolor": "white"
           },
           "yaxis": {
            "backgroundcolor": "#E5ECF6",
            "gridcolor": "white",
            "gridwidth": 2,
            "linecolor": "white",
            "showbackground": true,
            "ticks": "",
            "zerolinecolor": "white"
           },
           "zaxis": {
            "backgroundcolor": "#E5ECF6",
            "gridcolor": "white",
            "gridwidth": 2,
            "linecolor": "white",
            "showbackground": true,
            "ticks": "",
            "zerolinecolor": "white"
           }
          },
          "shapedefaults": {
           "line": {
            "color": "#2a3f5f"
           }
          },
          "ternary": {
           "aaxis": {
            "gridcolor": "white",
            "linecolor": "white",
            "ticks": ""
           },
           "baxis": {
            "gridcolor": "white",
            "linecolor": "white",
            "ticks": ""
           },
           "bgcolor": "#E5ECF6",
           "caxis": {
            "gridcolor": "white",
            "linecolor": "white",
            "ticks": ""
           }
          },
          "title": {
           "x": 0.05
          },
          "xaxis": {
           "automargin": true,
           "gridcolor": "white",
           "linecolor": "white",
           "ticks": "",
           "title": {
            "standoff": 15
           },
           "zerolinecolor": "white",
           "zerolinewidth": 2
          },
          "yaxis": {
           "automargin": true,
           "gridcolor": "white",
           "linecolor": "white",
           "ticks": "",
           "title": {
            "standoff": 15
           },
           "zerolinecolor": "white",
           "zerolinewidth": 2
          }
         }
        },
        "title": {
         "text": "What is the most preferred working environment for you."
        }
       }
      }
     },
     "metadata": {},
     "output_type": "display_data"
    }
   ],
   "source": [
    "question7 = data[\"What is the most preferred working environment for you.\"].value_counts()\n",
    "label = question7.index\n",
    "counts = question7.values\n",
    "colors = ['gold','lightgreen']\n",
    "fig = go.Figure(data=[go.Pie(labels=label,values=counts)])\n",
    "fig.update_layout(title_text ='What is the most preferred working environment for you.')\n",
    "fig.update_traces(hoverinfo='label+value',textinfo='percent',\n",
    "                 textfont_size=30,\n",
    "                 marker=dict(colors=colors,\n",
    "                            line=dict(color='black',width=3)))\n",
    "fig.show()"
   ]
  },
  {
   "cell_type": "code",
   "execution_count": 12,
   "id": "75bc05d9",
   "metadata": {},
   "outputs": [
    {
     "data": {
      "text/plain": [
       "What is the most preferred working environment for you.\n",
       "Fully Remote with Options to travel as and when needed                 60\n",
       "Hybrid Working Environment with less than 15 days a month at office    57\n",
       "Every Day Office Environment                                           50\n",
       "Hybrid Working Environment with less than 10 days a month at office    31\n",
       "Hybrid Working Environment with less than 3 days a month at office     26\n",
       "Fully Remote with No option to visit offices                           11\n",
       "Name: count, dtype: int64"
      ]
     },
     "execution_count": 12,
     "metadata": {},
     "output_type": "execute_result"
    }
   ],
   "source": [
    "question7"
   ]
  },
  {
   "cell_type": "code",
   "execution_count": 13,
   "id": "50826398",
   "metadata": {},
   "outputs": [
    {
     "data": {
      "text/plain": [
       "Index(['Fully Remote with Options to travel as and when needed',\n",
       "       'Hybrid Working Environment with less than 15 days a month at office',\n",
       "       'Every Day Office Environment',\n",
       "       'Hybrid Working Environment with less than 10 days a month at office',\n",
       "       'Hybrid Working Environment with less than 3 days a month at office',\n",
       "       'Fully Remote with No option to visit offices'],\n",
       "      dtype='object', name='What is the most preferred working environment for you.')"
      ]
     },
     "execution_count": 13,
     "metadata": {},
     "output_type": "execute_result"
    }
   ],
   "source": [
    "question7.index"
   ]
  },
  {
   "cell_type": "code",
   "execution_count": null,
   "id": "f265834d",
   "metadata": {},
   "outputs": [],
   "source": []
  }
 ],
 "metadata": {
  "kernelspec": {
   "display_name": "Python 3 (ipykernel)",
   "language": "python",
   "name": "python3"
  },
  "language_info": {
   "codemirror_mode": {
    "name": "ipython",
    "version": 3
   },
   "file_extension": ".py",
   "mimetype": "text/x-python",
   "name": "python",
   "nbconvert_exporter": "python",
   "pygments_lexer": "ipython3",
   "version": "3.11.7"
  }
 },
 "nbformat": 4,
 "nbformat_minor": 5
}
